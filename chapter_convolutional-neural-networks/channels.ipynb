{
  "cells": [
    {
      "cell_type": "markdown",
      "metadata": {
        "id": "view-in-github",
        "colab_type": "text"
      },
      "source": [
        "<a href=\"https://colab.research.google.com/github/SunshineGreeny/Dive-into-deep-learning-Pytorch/blob/main/chapter_convolutional-neural-networks/channels.ipynb\" target=\"_parent\"><img src=\"https://colab.research.google.com/assets/colab-badge.svg\" alt=\"Open In Colab\"/></a>"
      ]
    },
    {
      "cell_type": "markdown",
      "id": "ad4d4db0",
      "metadata": {
        "id": "ad4d4db0"
      },
      "source": [
        "# Multiple Input and Multiple Output Channels\n",
        "\n"
      ]
    },
    {
      "cell_type": "code",
      "execution_count": 9,
      "id": "1b38cfcf",
      "metadata": {
        "execution": {
          "iopub.execute_input": "2023-08-18T19:36:55.203128Z",
          "iopub.status.busy": "2023-08-18T19:36:55.202806Z",
          "iopub.status.idle": "2023-08-18T19:36:58.529112Z",
          "shell.execute_reply": "2023-08-18T19:36:58.525486Z"
        },
        "origin_pos": 3,
        "tab": [
          "pytorch"
        ],
        "id": "1b38cfcf"
      },
      "outputs": [],
      "source": [
        "import torch\n",
        "import torch.nn.functional as F"
      ]
    },
    {
      "cell_type": "markdown",
      "source": [
        "Tools"
      ],
      "metadata": {
        "id": "jkGgb11f2FNA"
      },
      "id": "jkGgb11f2FNA"
    },
    {
      "cell_type": "code",
      "source": [
        "def corr2d(X, K):\n",
        "    h, w = K.shape\n",
        "    Y = torch.zeros((X.shape[0] - h + 1, X.shape[1] - w + 1))\n",
        "    for i in range(Y.shape[0]):\n",
        "        for j in range(Y.shape[1]):\n",
        "            Y[i, j] = (X[i: i + h, j: j + w] * K).sum()\n",
        "    return Y"
      ],
      "metadata": {
        "id": "q0OUm6kq2GbC"
      },
      "id": "q0OUm6kq2GbC",
      "execution_count": 10,
      "outputs": []
    },
    {
      "cell_type": "markdown",
      "id": "4dc0fc9a",
      "metadata": {
        "id": "4dc0fc9a"
      },
      "source": [
        "Implement cross-correlation operations with multiple input channels"
      ]
    },
    {
      "cell_type": "code",
      "execution_count": 20,
      "id": "c00d6d37",
      "metadata": {
        "execution": {
          "iopub.execute_input": "2023-08-18T19:36:58.533726Z",
          "iopub.status.busy": "2023-08-18T19:36:58.533243Z",
          "iopub.status.idle": "2023-08-18T19:36:58.538930Z",
          "shell.execute_reply": "2023-08-18T19:36:58.537910Z"
        },
        "origin_pos": 7,
        "tab": [
          "pytorch"
        ],
        "id": "c00d6d37"
      },
      "outputs": [],
      "source": [
        "def corr2d_multi_in(X, K):\n",
        "    return sum(corr2d(x, k) for x, k in zip(X, K))"
      ]
    },
    {
      "cell_type": "markdown",
      "id": "116ccd87",
      "metadata": {
        "id": "116ccd87"
      },
      "source": [
        "Validate the output"
      ]
    },
    {
      "cell_type": "code",
      "execution_count": 19,
      "id": "4a511891",
      "metadata": {
        "execution": {
          "iopub.execute_input": "2023-08-18T19:36:58.542978Z",
          "iopub.status.busy": "2023-08-18T19:36:58.542044Z",
          "iopub.status.idle": "2023-08-18T19:36:58.558450Z",
          "shell.execute_reply": "2023-08-18T19:36:58.555512Z"
        },
        "origin_pos": 10,
        "tab": [
          "pytorch"
        ],
        "colab": {
          "base_uri": "https://localhost:8080/"
        },
        "id": "4a511891",
        "outputId": "48b011f2-4ec6-4c11-e65e-682d6e315e43"
      },
      "outputs": [
        {
          "output_type": "execute_result",
          "data": {
            "text/plain": [
              "tensor([[ 56.,  72.],\n",
              "        [104., 120.]])"
            ]
          },
          "metadata": {},
          "execution_count": 19
        }
      ],
      "source": [
        "X = torch.tensor([[[0.0, 1.0, 2.0], [3.0, 4.0, 5.0], [6.0, 7.0, 8.0]],\n",
        "               [[1.0, 2.0, 3.0], [4.0, 5.0, 6.0], [7.0, 8.0, 9.0]]])\n",
        "K = torch.tensor([[[0.0, 1.0], [2.0, 3.0]], [[1.0, 2.0], [3.0, 4.0]]])\n",
        "\n",
        "corr2d_multi_in(X, K)"
      ]
    },
    {
      "cell_type": "markdown",
      "id": "541f8c5b",
      "metadata": {
        "id": "541f8c5b"
      },
      "source": [
        "Calculate the output of multiple channels"
      ]
    },
    {
      "cell_type": "code",
      "execution_count": 18,
      "id": "27621226",
      "metadata": {
        "execution": {
          "iopub.execute_input": "2023-08-18T19:36:58.571512Z",
          "iopub.status.busy": "2023-08-18T19:36:58.570515Z",
          "iopub.status.idle": "2023-08-18T19:36:58.579033Z",
          "shell.execute_reply": "2023-08-18T19:36:58.578147Z"
        },
        "origin_pos": 14,
        "tab": [
          "pytorch"
        ],
        "colab": {
          "base_uri": "https://localhost:8080/"
        },
        "id": "27621226",
        "outputId": "95432952-507d-47bc-e0ad-7426dbf79078"
      },
      "outputs": [
        {
          "output_type": "execute_result",
          "data": {
            "text/plain": [
              "torch.Size([3, 2, 3, 1, 1])"
            ]
          },
          "metadata": {},
          "execution_count": 18
        }
      ],
      "source": [
        "def corr2d_multi_in_out(X, K):\n",
        "    return torch.stack([corr2d_multi_in(X, k) for k in K], 0)\n",
        "\n",
        "K = torch.stack((K, K + 1, K + 2), 0)\n",
        "K.shape"
      ]
    },
    {
      "cell_type": "code",
      "execution_count": 17,
      "id": "4d36175c",
      "metadata": {
        "execution": {
          "iopub.execute_input": "2023-08-18T19:36:58.583043Z",
          "iopub.status.busy": "2023-08-18T19:36:58.582466Z",
          "iopub.status.idle": "2023-08-18T19:36:58.596203Z",
          "shell.execute_reply": "2023-08-18T19:36:58.593357Z"
        },
        "origin_pos": 16,
        "tab": [
          "pytorch"
        ],
        "colab": {
          "base_uri": "https://localhost:8080/"
        },
        "id": "4d36175c",
        "outputId": "8d878ba1-d44c-4b73-fe72-e500d8a4257e"
      },
      "outputs": [
        {
          "output_type": "execute_result",
          "data": {
            "text/plain": [
              "tensor([[[ 0.1002,  1.4202,  0.1197],\n",
              "         [ 2.6158, -0.8329, -1.7942],\n",
              "         [ 1.5081, -0.4157,  1.5478]],\n",
              "\n",
              "        [[-0.0915, -1.3050, -0.3970],\n",
              "         [ 0.0451, -0.3662,  0.3286],\n",
              "         [-1.0713, -0.8938,  0.2056]]])"
            ]
          },
          "metadata": {},
          "execution_count": 17
        }
      ],
      "source": [
        "corr2d_multi_in_out(X, K)"
      ]
    },
    {
      "cell_type": "markdown",
      "id": "57f13519",
      "metadata": {
        "id": "57f13519"
      },
      "source": [
        "$1 \\times 1$ convolution"
      ]
    },
    {
      "cell_type": "code",
      "execution_count": 16,
      "id": "e0542628",
      "metadata": {
        "execution": {
          "iopub.execute_input": "2023-08-18T19:36:58.612710Z",
          "iopub.status.busy": "2023-08-18T19:36:58.610896Z",
          "iopub.status.idle": "2023-08-18T19:36:58.627437Z",
          "shell.execute_reply": "2023-08-18T19:36:58.626346Z"
        },
        "origin_pos": 20,
        "tab": [
          "pytorch"
        ],
        "id": "e0542628"
      },
      "outputs": [],
      "source": [
        "def corr2d_multi_in_out_1x1(X, K):\n",
        "    c_i, h, w = X.shape\n",
        "    c_o = K.shape[0]\n",
        "    X = X.reshape((c_i, h * w))\n",
        "    K = K.reshape((c_o, c_i))\n",
        "    Y = torch.matmul(K, X)\n",
        "    return Y.reshape((c_o, h, w))\n",
        "\n",
        "X = torch.normal(0, 1, (3, 3, 3))\n",
        "K = torch.normal(0, 1, (2, 3, 1, 1))\n",
        "Y1 = corr2d_multi_in_out_1x1(X, K)\n",
        "Y2 = corr2d_multi_in_out(X, K)\n",
        "assert float(torch.abs(Y1 - Y2).sum()) < 1e-6"
      ]
    }
  ],
  "metadata": {
    "celltoolbar": "Slideshow",
    "language_info": {
      "name": "python"
    },
    "required_libs": [],
    "rise": {
      "autolaunch": true,
      "enable_chalkboard": true,
      "overlay": "<div class='my-top-right'><img height=80px src='http://d2l.ai/_static/logo-with-text.png'/></div><div class='my-top-left'></div>",
      "scroll": true
    },
    "colab": {
      "provenance": [],
      "include_colab_link": true
    },
    "kernelspec": {
      "name": "python3",
      "display_name": "Python 3"
    }
  },
  "nbformat": 4,
  "nbformat_minor": 5
}