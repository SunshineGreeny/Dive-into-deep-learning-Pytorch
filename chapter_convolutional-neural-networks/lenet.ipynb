{
  "cells": [
    {
      "cell_type": "markdown",
      "metadata": {
        "id": "view-in-github",
        "colab_type": "text"
      },
      "source": [
        "<a href=\"https://colab.research.google.com/github/SunshineGreeny/Dive-into-deep-learning-Pytorch/blob/main/chapter_convolutional-neural-networks/lenet.ipynb\" target=\"_parent\"><img src=\"https://colab.research.google.com/assets/colab-badge.svg\" alt=\"Open In Colab\"/></a>"
      ]
    },
    {
      "cell_type": "markdown",
      "id": "6abf7478",
      "metadata": {
        "id": "6abf7478"
      },
      "source": [
        "# Convolutional Neural Networks (LeNet)\n",
        "\n"
      ]
    },
    {
      "cell_type": "code",
      "execution_count": 20,
      "id": "08e44e08",
      "metadata": {
        "execution": {
          "iopub.execute_input": "2023-08-18T19:57:49.669910Z",
          "iopub.status.busy": "2023-08-18T19:57:49.669347Z",
          "iopub.status.idle": "2023-08-18T19:57:53.053954Z",
          "shell.execute_reply": "2023-08-18T19:57:53.052649Z"
        },
        "origin_pos": 3,
        "tab": [
          "pytorch"
        ],
        "id": "08e44e08"
      },
      "outputs": [],
      "source": [
        "import torch\n",
        "from torch import nn\n",
        "import torch.nn.functional as F\n",
        "import torchvision.transforms as transforms\n",
        "from torch.utils.data import DataLoader\n",
        "from torchvision.datasets import FashionMNIST\n",
        "import torch.optim as optim"
      ]
    },
    {
      "cell_type": "markdown",
      "id": "e785dd7e",
      "metadata": {
        "id": "e785dd7e"
      },
      "source": [
        "LeNet (LeNet-5) consists of two parts:\n",
        "(i) a convolutional encoder consisting of two convolutional layers; and\n",
        "(ii) a dense block consisting of three fully connected layers"
      ]
    },
    {
      "cell_type": "code",
      "execution_count": 9,
      "id": "20dc7869",
      "metadata": {
        "execution": {
          "iopub.execute_input": "2023-08-18T19:57:53.070462Z",
          "iopub.status.busy": "2023-08-18T19:57:53.069656Z",
          "iopub.status.idle": "2023-08-18T19:57:53.078800Z",
          "shell.execute_reply": "2023-08-18T19:57:53.077655Z"
        },
        "origin_pos": 8,
        "tab": [
          "pytorch"
        ],
        "id": "20dc7869"
      },
      "outputs": [],
      "source": [
        "import torch\n",
        "from torch import nn\n",
        "import torch.nn.functional as F\n",
        "\n",
        "def init_cnn(m: nn.Module):\n",
        "    \"\"\"Initialize weights for CNNs.\"\"\"\n",
        "    if type(m) == nn.Linear or type(m) == nn.Conv2d:\n",
        "        nn.init.xavier_uniform_(m.weight)\n",
        "\n",
        "class LeNet(nn.Module):\n",
        "    \"\"\"The LeNet-5 model.\"\"\"\n",
        "    def __init__(self, lr=0.1, num_classes=10):\n",
        "        super().__init__()\n",
        "        self.net = nn.Sequential(\n",
        "            nn.Conv2d(1, 6, kernel_size=5, padding=2), nn.Sigmoid(),\n",
        "            nn.AvgPool2d(kernel_size=2, stride=2),\n",
        "            nn.Conv2d(6, 16, kernel_size=5), nn.Sigmoid(),\n",
        "            nn.AvgPool2d(kernel_size=2, stride=2),\n",
        "            nn.Flatten(),\n",
        "            nn.Linear(16 * 5 * 5, 120), nn.Sigmoid(),\n",
        "            nn.Linear(120, 84), nn.Sigmoid(),\n",
        "            nn.Linear(84, num_classes))\n",
        "\n",
        "    def forward(self,X):\n",
        "      return self.net(X)\n",
        "\n",
        "    def layer_summary(self, X_shape):\n",
        "        X = torch.randn(*X_shape)\n",
        "        for layer in self.net:\n",
        "            X = layer(X)\n",
        "            print(layer.__class__.__name__, 'output shape:\\t', X.shape)"
      ]
    },
    {
      "cell_type": "markdown",
      "source": [
        "Tools"
      ],
      "metadata": {
        "id": "3xgsQyj_SEi4"
      },
      "id": "3xgsQyj_SEi4"
    },
    {
      "cell_type": "code",
      "source": [
        "class Trainer:\n",
        "    def __init__(self, model, train_loader, test_loader, max_epochs, num_gpus, device=\"cuda\"):\n",
        "        self.model = model.to(device)\n",
        "        self.train_loader = train_loader\n",
        "        self.test_loader = test_loader\n",
        "        self.max_epochs = max_epochs\n",
        "        self.num_gpus = num_gpus\n",
        "        self.device = device\n",
        "        self.criterion = nn.CrossEntropyLoss()\n",
        "        self.optimizer = optim.Adam(self.model.parameters(), lr=0.1) # Assuming lr is 0.1 based on LeNet init\n",
        "\n",
        "    def fit(self):\n",
        "        train_losses = []\n",
        "        test_losses = [] # Although not used in the print statement, keeping for completeness\n",
        "\n",
        "        for epoch in range(self.max_epochs):\n",
        "            # 训练阶段\n",
        "            self.model.train()\n",
        "            total_loss, total_correct, total_samples = 0, 0, 0\n",
        "            for X, y in self.train_loader:\n",
        "                X, y = X.to(self.device), y.to(self.device)\n",
        "                y_hat = self.model(X)\n",
        "                loss = self.criterion(y_hat, y)\n",
        "\n",
        "                self.optimizer.zero_grad()\n",
        "                loss.backward()\n",
        "                self.optimizer.step()\n",
        "\n",
        "                total_loss += loss.item() * y.size(0)\n",
        "                total_correct += (y_hat.argmax(dim=1) == y).sum().item()\n",
        "                total_samples += y.size(0)\n",
        "\n",
        "            train_loss = total_loss / total_samples\n",
        "            train_acc = total_correct / total_samples\n",
        "\n",
        "            # 测试阶段\n",
        "            self.model.eval()\n",
        "            correct, total = 0, 0\n",
        "            with torch.no_grad():\n",
        "                for X, y in self.test_loader:\n",
        "                    X, y = X.to(self.device), y.to(self.device)\n",
        "                    y_hat = self.model(X)\n",
        "                    correct += (y_hat.argmax(dim=1) == y).sum().item()\n",
        "                    total += y.size(0)\n",
        "\n",
        "            test_acc = correct / total\n",
        "\n",
        "            print(f\"Epoch {epoch+1}/{self.max_epochs}:\"\n",
        "                  f\"Train Loss {train_loss:.4f}, Train acc {train_acc:.4f}, Test acc {test_acc:.4f}\")"
      ],
      "metadata": {
        "id": "0UOBwrSbSGCL"
      },
      "id": "0UOBwrSbSGCL",
      "execution_count": 21,
      "outputs": []
    },
    {
      "cell_type": "markdown",
      "id": "26a2a6a8",
      "metadata": {
        "id": "26a2a6a8"
      },
      "source": [
        "Inspect the model"
      ]
    },
    {
      "cell_type": "code",
      "execution_count": 10,
      "id": "8f2c67b9",
      "metadata": {
        "execution": {
          "iopub.execute_input": "2023-08-18T19:57:53.083550Z",
          "iopub.status.busy": "2023-08-18T19:57:53.082696Z",
          "iopub.status.idle": "2023-08-18T19:57:53.135302Z",
          "shell.execute_reply": "2023-08-18T19:57:53.134064Z"
        },
        "origin_pos": 14,
        "tab": [
          "pytorch"
        ],
        "colab": {
          "base_uri": "https://localhost:8080/"
        },
        "id": "8f2c67b9",
        "outputId": "8e188e3f-1d03-4fd1-c1b1-0185a068f08f"
      },
      "outputs": [
        {
          "output_type": "stream",
          "name": "stdout",
          "text": [
            "Conv2d output shape:\t torch.Size([1, 6, 28, 28])\n",
            "Sigmoid output shape:\t torch.Size([1, 6, 28, 28])\n",
            "AvgPool2d output shape:\t torch.Size([1, 6, 14, 14])\n",
            "Conv2d output shape:\t torch.Size([1, 16, 10, 10])\n",
            "Sigmoid output shape:\t torch.Size([1, 16, 10, 10])\n",
            "AvgPool2d output shape:\t torch.Size([1, 16, 5, 5])\n",
            "Flatten output shape:\t torch.Size([1, 400])\n",
            "Linear output shape:\t torch.Size([1, 120])\n",
            "Sigmoid output shape:\t torch.Size([1, 120])\n",
            "Linear output shape:\t torch.Size([1, 84])\n",
            "Sigmoid output shape:\t torch.Size([1, 84])\n",
            "Linear output shape:\t torch.Size([1, 10])\n"
          ]
        }
      ],
      "source": [
        "def layer_summary(self, X_shape):\n",
        "    X = torch.randn(*X_shape)\n",
        "    for layer in self.net:\n",
        "        X = layer(X)\n",
        "        print(layer.__class__.__name__, 'output shape:\\t', X.shape)\n",
        "\n",
        "model = LeNet()\n",
        "model.layer_summary((1, 1, 28, 28))"
      ]
    },
    {
      "cell_type": "markdown",
      "id": "4b9ed7f7",
      "metadata": {
        "id": "4b9ed7f7"
      },
      "source": [
        "Run an experiment to see how the LeNet-5 model fares on Fashion-MNIST"
      ]
    },
    {
      "cell_type": "code",
      "execution_count": 19,
      "id": "8f82d79c",
      "metadata": {
        "execution": {
          "iopub.execute_input": "2023-08-18T19:57:53.139574Z",
          "iopub.status.busy": "2023-08-18T19:57:53.139010Z",
          "iopub.status.idle": "2023-08-18T19:58:55.458380Z",
          "shell.execute_reply": "2023-08-18T19:58:55.457425Z"
        },
        "origin_pos": 18,
        "tab": [
          "pytorch"
        ],
        "colab": {
          "base_uri": "https://localhost:8080/"
        },
        "id": "8f82d79c",
        "outputId": "ad4b48a0-3a5b-4025-bdce-122c409a3e5f"
      },
      "outputs": [
        {
          "output_type": "stream",
          "name": "stderr",
          "text": [
            "100%|██████████| 26.4M/26.4M [00:00<00:00, 114MB/s]\n",
            "100%|██████████| 29.5k/29.5k [00:00<00:00, 3.96MB/s]\n",
            "100%|██████████| 4.42M/4.42M [00:00<00:00, 59.8MB/s]\n",
            "100%|██████████| 5.15k/5.15k [00:00<00:00, 24.6MB/s]\n"
          ]
        },
        {
          "output_type": "stream",
          "name": "stdout",
          "text": [
            "Epoch 1/10:Train Loss 2.4492, Train acc 0.0968, Test acc 0.1000\n",
            "Epoch 2/10:Train Loss 2.4197, Train acc 0.0986, Test acc 0.1000\n",
            "Epoch 3/10:Train Loss 2.4351, Train acc 0.0982, Test acc 0.1000\n",
            "Epoch 4/10:Train Loss 2.4284, Train acc 0.1005, Test acc 0.1000\n",
            "Epoch 5/10:Train Loss 2.4232, Train acc 0.0999, Test acc 0.1000\n",
            "Epoch 6/10:Train Loss 2.4258, Train acc 0.1002, Test acc 0.1000\n",
            "Epoch 7/10:Train Loss 2.4365, Train acc 0.0983, Test acc 0.1000\n",
            "Epoch 8/10:Train Loss 2.4278, Train acc 0.0988, Test acc 0.1000\n",
            "Epoch 9/10:Train Loss 2.4177, Train acc 0.1001, Test acc 0.1000\n",
            "Epoch 10/10:Train Loss 2.4136, Train acc 0.0984, Test acc 0.1000\n"
          ]
        }
      ],
      "source": [
        "# Assuming data is already loaded and split into train and test loaders\n",
        "# If not, you'll need to add code to load and prepare the data\n",
        "data = FashionMNIST(root='./data', train=True, download=True, transform=transforms.ToTensor())\n",
        "train_loader = DataLoader(data, batch_size=128, shuffle=True)\n",
        "\n",
        "data_test = FashionMNIST(root='./data', train=False, download=True, transform=transforms.ToTensor())\n",
        "test_loader = DataLoader(data_test, batch_size=128, shuffle=False)\n",
        "\n",
        "\n",
        "model = LeNet(lr=0.1)\n",
        "model.apply(init_cnn) # Use apply instead of apply_init\n",
        "\n",
        "trainer = Trainer(model=model, train_loader=train_loader, test_loader=test_loader, max_epochs=10, num_gpus=1)\n",
        "trainer.fit()"
      ]
    }
  ],
  "metadata": {
    "celltoolbar": "Slideshow",
    "language_info": {
      "name": "python"
    },
    "required_libs": [],
    "rise": {
      "autolaunch": true,
      "enable_chalkboard": true,
      "overlay": "<div class='my-top-right'><img height=80px src='http://d2l.ai/_static/logo-with-text.png'/></div><div class='my-top-left'></div>",
      "scroll": true
    },
    "colab": {
      "provenance": [],
      "gpuType": "T4",
      "include_colab_link": true
    },
    "accelerator": "GPU",
    "kernelspec": {
      "name": "python3",
      "display_name": "Python 3"
    }
  },
  "nbformat": 4,
  "nbformat_minor": 5
}