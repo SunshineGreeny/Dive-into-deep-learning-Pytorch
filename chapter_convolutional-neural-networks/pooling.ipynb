{
  "cells": [
    {
      "cell_type": "markdown",
      "metadata": {
        "id": "view-in-github",
        "colab_type": "text"
      },
      "source": [
        "<a href=\"https://colab.research.google.com/github/SunshineGreeny/Dive-into-deep-learning-Pytorch/blob/main/chapter_convolutional-neural-networks/pooling.ipynb\" target=\"_parent\"><img src=\"https://colab.research.google.com/assets/colab-badge.svg\" alt=\"Open In Colab\"/></a>"
      ]
    },
    {
      "cell_type": "markdown",
      "id": "e8d806be",
      "metadata": {
        "id": "e8d806be"
      },
      "source": [
        "# Pooling\n",
        "\n"
      ]
    },
    {
      "cell_type": "code",
      "execution_count": 1,
      "id": "1d620804",
      "metadata": {
        "execution": {
          "iopub.execute_input": "2023-08-18T20:14:38.208041Z",
          "iopub.status.busy": "2023-08-18T20:14:38.207378Z",
          "iopub.status.idle": "2023-08-18T20:14:41.246234Z",
          "shell.execute_reply": "2023-08-18T20:14:41.245322Z"
        },
        "origin_pos": 3,
        "tab": [
          "pytorch"
        ],
        "id": "1d620804"
      },
      "outputs": [],
      "source": [
        "import torch\n",
        "from torch import nn"
      ]
    },
    {
      "cell_type": "markdown",
      "id": "6200b6df",
      "metadata": {
        "id": "6200b6df"
      },
      "source": [
        "Implement the forward propagation\n",
        "of the pooling layer"
      ]
    },
    {
      "cell_type": "code",
      "execution_count": 2,
      "id": "b6b758a3",
      "metadata": {
        "execution": {
          "iopub.execute_input": "2023-08-18T20:14:41.250338Z",
          "iopub.status.busy": "2023-08-18T20:14:41.249663Z",
          "iopub.status.idle": "2023-08-18T20:14:41.255693Z",
          "shell.execute_reply": "2023-08-18T20:14:41.254862Z"
        },
        "origin_pos": 6,
        "tab": [
          "pytorch"
        ],
        "id": "b6b758a3"
      },
      "outputs": [],
      "source": [
        "def pool2d(X, pool_size, mode='max'):\n",
        "    p_h, p_w = pool_size\n",
        "    Y = torch.zeros((X.shape[0] - p_h + 1, X.shape[1] - p_w + 1))\n",
        "    for i in range(Y.shape[0]):\n",
        "        for j in range(Y.shape[1]):\n",
        "            if mode == 'max':\n",
        "                Y[i, j] = X[i: i + p_h, j: j + p_w].max()\n",
        "            elif mode == 'avg':\n",
        "                Y[i, j] = X[i: i + p_h, j: j + p_w].mean()\n",
        "    return Y"
      ]
    },
    {
      "cell_type": "markdown",
      "id": "b08443a6",
      "metadata": {
        "id": "b08443a6"
      },
      "source": [
        "Validate the output of the two-dimensional max-pooling layer"
      ]
    },
    {
      "cell_type": "code",
      "execution_count": 3,
      "id": "8fcb17f0",
      "metadata": {
        "execution": {
          "iopub.execute_input": "2023-08-18T20:14:41.259009Z",
          "iopub.status.busy": "2023-08-18T20:14:41.258472Z",
          "iopub.status.idle": "2023-08-18T20:14:41.285891Z",
          "shell.execute_reply": "2023-08-18T20:14:41.285098Z"
        },
        "origin_pos": 10,
        "tab": [
          "pytorch"
        ],
        "id": "8fcb17f0",
        "outputId": "59416e41-0158-46df-87b9-52e86e8aa2ce",
        "colab": {
          "base_uri": "https://localhost:8080/"
        }
      },
      "outputs": [
        {
          "output_type": "execute_result",
          "data": {
            "text/plain": [
              "tensor([[4., 5.],\n",
              "        [7., 8.]])"
            ]
          },
          "metadata": {},
          "execution_count": 3
        }
      ],
      "source": [
        "X = torch.tensor([[0.0, 1.0, 2.0], [3.0, 4.0, 5.0], [6.0, 7.0, 8.0]])\n",
        "pool2d(X, (2, 2))"
      ]
    },
    {
      "cell_type": "markdown",
      "id": "d3af0b6d",
      "metadata": {
        "id": "d3af0b6d"
      },
      "source": [
        "The average pooling layer"
      ]
    },
    {
      "cell_type": "code",
      "execution_count": 4,
      "id": "db997aec",
      "metadata": {
        "execution": {
          "iopub.execute_input": "2023-08-18T20:14:41.289296Z",
          "iopub.status.busy": "2023-08-18T20:14:41.288755Z",
          "iopub.status.idle": "2023-08-18T20:14:41.294610Z",
          "shell.execute_reply": "2023-08-18T20:14:41.293875Z"
        },
        "origin_pos": 12,
        "tab": [
          "pytorch"
        ],
        "id": "db997aec",
        "outputId": "b888504e-473f-4213-8a13-972d5fa9d884",
        "colab": {
          "base_uri": "https://localhost:8080/"
        }
      },
      "outputs": [
        {
          "output_type": "execute_result",
          "data": {
            "text/plain": [
              "tensor([[2., 3.],\n",
              "        [5., 6.]])"
            ]
          },
          "metadata": {},
          "execution_count": 4
        }
      ],
      "source": [
        "pool2d(X, (2, 2), 'avg')"
      ]
    },
    {
      "cell_type": "markdown",
      "id": "0163a39f",
      "metadata": {
        "id": "0163a39f"
      },
      "source": [
        "Padding and Stride"
      ]
    },
    {
      "cell_type": "code",
      "execution_count": 5,
      "id": "163fc8d6",
      "metadata": {
        "execution": {
          "iopub.execute_input": "2023-08-18T20:14:41.298256Z",
          "iopub.status.busy": "2023-08-18T20:14:41.297476Z",
          "iopub.status.idle": "2023-08-18T20:14:41.304757Z",
          "shell.execute_reply": "2023-08-18T20:14:41.303750Z"
        },
        "origin_pos": 15,
        "tab": [
          "pytorch"
        ],
        "id": "163fc8d6",
        "outputId": "91a1ce4b-bfaa-4e97-9d70-f3c175f0f7fb",
        "colab": {
          "base_uri": "https://localhost:8080/"
        }
      },
      "outputs": [
        {
          "output_type": "execute_result",
          "data": {
            "text/plain": [
              "tensor([[[[ 0.,  1.,  2.,  3.],\n",
              "          [ 4.,  5.,  6.,  7.],\n",
              "          [ 8.,  9., 10., 11.],\n",
              "          [12., 13., 14., 15.]]]])"
            ]
          },
          "metadata": {},
          "execution_count": 5
        }
      ],
      "source": [
        "X = torch.arange(16, dtype=torch.float32).reshape((1, 1, 4, 4))\n",
        "X"
      ]
    },
    {
      "cell_type": "markdown",
      "id": "0fe0cc6f",
      "metadata": {
        "id": "0fe0cc6f"
      },
      "source": [
        "Deep learning frameworks default to matching pooling window sizes and stride"
      ]
    },
    {
      "cell_type": "code",
      "execution_count": 6,
      "id": "bc286034",
      "metadata": {
        "execution": {
          "iopub.execute_input": "2023-08-18T20:14:41.308365Z",
          "iopub.status.busy": "2023-08-18T20:14:41.307491Z",
          "iopub.status.idle": "2023-08-18T20:14:41.314528Z",
          "shell.execute_reply": "2023-08-18T20:14:41.313528Z"
        },
        "origin_pos": 19,
        "tab": [
          "pytorch"
        ],
        "id": "bc286034",
        "outputId": "4b266660-2d97-47aa-c2ac-1fd65fd5661e",
        "colab": {
          "base_uri": "https://localhost:8080/"
        }
      },
      "outputs": [
        {
          "output_type": "execute_result",
          "data": {
            "text/plain": [
              "tensor([[[[10.]]]])"
            ]
          },
          "metadata": {},
          "execution_count": 6
        }
      ],
      "source": [
        "pool2d = nn.MaxPool2d(3)\n",
        "pool2d(X)"
      ]
    },
    {
      "cell_type": "markdown",
      "id": "def3e95d",
      "metadata": {
        "id": "def3e95d"
      },
      "source": [
        "The stride and padding can be manually specified"
      ]
    },
    {
      "cell_type": "code",
      "execution_count": 7,
      "id": "ca0c78a7",
      "metadata": {
        "execution": {
          "iopub.execute_input": "2023-08-18T20:14:41.318117Z",
          "iopub.status.busy": "2023-08-18T20:14:41.317241Z",
          "iopub.status.idle": "2023-08-18T20:14:41.324934Z",
          "shell.execute_reply": "2023-08-18T20:14:41.323915Z"
        },
        "origin_pos": 24,
        "tab": [
          "pytorch"
        ],
        "id": "ca0c78a7",
        "outputId": "3a4d9a04-77c9-4029-efc1-4072561a6c48",
        "colab": {
          "base_uri": "https://localhost:8080/"
        }
      },
      "outputs": [
        {
          "output_type": "execute_result",
          "data": {
            "text/plain": [
              "tensor([[[[ 5.,  7.],\n",
              "          [13., 15.]]]])"
            ]
          },
          "metadata": {},
          "execution_count": 7
        }
      ],
      "source": [
        "pool2d = nn.MaxPool2d(3, padding=1, stride=2)\n",
        "pool2d(X)"
      ]
    },
    {
      "cell_type": "code",
      "execution_count": 8,
      "id": "69b31fea",
      "metadata": {
        "execution": {
          "iopub.execute_input": "2023-08-18T20:14:41.328395Z",
          "iopub.status.busy": "2023-08-18T20:14:41.327817Z",
          "iopub.status.idle": "2023-08-18T20:14:41.335285Z",
          "shell.execute_reply": "2023-08-18T20:14:41.334272Z"
        },
        "origin_pos": 29,
        "tab": [
          "pytorch"
        ],
        "id": "69b31fea",
        "outputId": "4a96421b-f9f7-4610-9dd5-d00c5348fa7f",
        "colab": {
          "base_uri": "https://localhost:8080/"
        }
      },
      "outputs": [
        {
          "output_type": "execute_result",
          "data": {
            "text/plain": [
              "tensor([[[[ 5.,  7.],\n",
              "          [13., 15.]]]])"
            ]
          },
          "metadata": {},
          "execution_count": 8
        }
      ],
      "source": [
        "pool2d = nn.MaxPool2d((2, 3), stride=(2, 3), padding=(0, 1))\n",
        "pool2d(X)"
      ]
    },
    {
      "cell_type": "markdown",
      "id": "4c16425c",
      "metadata": {
        "id": "4c16425c"
      },
      "source": [
        "The pooling layer pools each input channel separately"
      ]
    },
    {
      "cell_type": "code",
      "execution_count": 9,
      "id": "e54e620e",
      "metadata": {
        "execution": {
          "iopub.execute_input": "2023-08-18T20:14:41.338784Z",
          "iopub.status.busy": "2023-08-18T20:14:41.338035Z",
          "iopub.status.idle": "2023-08-18T20:14:41.345454Z",
          "shell.execute_reply": "2023-08-18T20:14:41.344440Z"
        },
        "origin_pos": 34,
        "tab": [
          "pytorch"
        ],
        "id": "e54e620e",
        "outputId": "b0c78d12-b9f1-4ba9-a2bb-fedfc9ad8a8a",
        "colab": {
          "base_uri": "https://localhost:8080/"
        }
      },
      "outputs": [
        {
          "output_type": "execute_result",
          "data": {
            "text/plain": [
              "tensor([[[[ 0.,  1.,  2.,  3.],\n",
              "          [ 4.,  5.,  6.,  7.],\n",
              "          [ 8.,  9., 10., 11.],\n",
              "          [12., 13., 14., 15.]],\n",
              "\n",
              "         [[ 1.,  2.,  3.,  4.],\n",
              "          [ 5.,  6.,  7.,  8.],\n",
              "          [ 9., 10., 11., 12.],\n",
              "          [13., 14., 15., 16.]]]])"
            ]
          },
          "metadata": {},
          "execution_count": 9
        }
      ],
      "source": [
        "X = torch.cat((X, X + 1), 1)\n",
        "X"
      ]
    },
    {
      "cell_type": "code",
      "execution_count": 10,
      "id": "87e7f759",
      "metadata": {
        "execution": {
          "iopub.execute_input": "2023-08-18T20:14:41.349138Z",
          "iopub.status.busy": "2023-08-18T20:14:41.348332Z",
          "iopub.status.idle": "2023-08-18T20:14:41.355713Z",
          "shell.execute_reply": "2023-08-18T20:14:41.354667Z"
        },
        "origin_pos": 38,
        "tab": [
          "pytorch"
        ],
        "id": "87e7f759",
        "outputId": "3cbcf1fa-d371-479e-dff1-cf9f55aeab4b",
        "colab": {
          "base_uri": "https://localhost:8080/"
        }
      },
      "outputs": [
        {
          "output_type": "execute_result",
          "data": {
            "text/plain": [
              "tensor([[[[ 5.,  7.],\n",
              "          [13., 15.]],\n",
              "\n",
              "         [[ 6.,  8.],\n",
              "          [14., 16.]]]])"
            ]
          },
          "metadata": {},
          "execution_count": 10
        }
      ],
      "source": [
        "pool2d = nn.MaxPool2d(3, padding=1, stride=2)\n",
        "pool2d(X)"
      ]
    }
  ],
  "metadata": {
    "celltoolbar": "Slideshow",
    "language_info": {
      "name": "python"
    },
    "required_libs": [],
    "rise": {
      "autolaunch": true,
      "enable_chalkboard": true,
      "overlay": "<div class='my-top-right'><img height=80px src='http://d2l.ai/_static/logo-with-text.png'/></div><div class='my-top-left'></div>",
      "scroll": true
    },
    "colab": {
      "provenance": [],
      "gpuType": "T4",
      "include_colab_link": true
    },
    "accelerator": "GPU",
    "kernelspec": {
      "name": "python3",
      "display_name": "Python 3"
    }
  },
  "nbformat": 4,
  "nbformat_minor": 5
}