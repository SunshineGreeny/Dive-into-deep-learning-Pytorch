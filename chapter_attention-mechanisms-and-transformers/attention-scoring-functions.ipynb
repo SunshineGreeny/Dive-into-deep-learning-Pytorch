{
  "cells": [
    {
      "cell_type": "markdown",
      "metadata": {
        "id": "view-in-github",
        "colab_type": "text"
      },
      "source": [
        "<a href=\"https://colab.research.google.com/github/SunshineGreeny/Dive-into-deep-learning-Pytorch/blob/colab-experiments/chapter_attention-mechanisms-and-transformers/attention-scoring-functions.ipynb\" target=\"_parent\"><img src=\"https://colab.research.google.com/assets/colab-badge.svg\" alt=\"Open In Colab\"/></a>"
      ]
    },
    {
      "cell_type": "markdown",
      "id": "f6a0ffe1",
      "metadata": {
        "id": "f6a0ffe1"
      },
      "source": [
        "# Attention Scoring Functions\n",
        "\n"
      ]
    },
    {
      "cell_type": "markdown",
      "id": "9440ec4c",
      "metadata": {
        "id": "9440ec4c"
      },
      "source": [
        "Dot Product Attention\n",
        "Masked Softmax Operation"
      ]
    },
    {
      "cell_type": "code",
      "execution_count": 1,
      "id": "8e33a108",
      "metadata": {
        "execution": {
          "iopub.execute_input": "2023-08-18T19:43:45.433072Z",
          "iopub.status.busy": "2023-08-18T19:43:45.432523Z",
          "iopub.status.idle": "2023-08-18T19:43:48.504425Z",
          "shell.execute_reply": "2023-08-18T19:43:48.503548Z"
        },
        "origin_pos": 3,
        "tab": [
          "pytorch"
        ],
        "id": "8e33a108"
      },
      "outputs": [],
      "source": [
        "import math\n",
        "import torch\n",
        "from torch import nn\n",
        "import matplotlib.pyplot as plt\n",
        "import numpy as np"
      ]
    },
    {
      "cell_type": "code",
      "source": [
        "def check_shape(tensor, expected_shape):\n",
        "    \"\"\"\n",
        "    检查张量形状是否与预期形状匹配\n",
        "\n",
        "    参数:\n",
        "        tensor: 要检查的张量\n",
        "        expected_shape: 预期的形状元组\n",
        "\n",
        "    返回:\n",
        "        如果形状匹配，返回原张量；否则抛出断言错误\n",
        "    \"\"\"\n",
        "    assert tensor.shape == expected_shape, \\\n",
        "        f\"Expected shape: {expected_shape}, but got: {tensor.shape}\"\n",
        "    return tensor\n",
        "\n",
        "def show_heatmaps(matrices, xlabel, ylabel, titles=None, figsize=(3.5, 2.5),\n",
        "                  sharex=True,sharey=True,squeeze=False):\n",
        "    \"\"\"\n",
        "    显示注意力权重的热力图\n",
        "\n",
        "    参数:\n",
        "        matrices: 注意力权重矩阵，形状为 (行数, 列数, 矩阵高度, 矩阵宽度)\n",
        "        xlabel: x轴标签（通常是\"Keys\"）\n",
        "        ylabel: y轴标签（通常是\"Queries\"）\n",
        "        titles: 可选的子图标题\n",
        "        figsize: 图形大小\n",
        "    \"\"\"\n",
        "    num_rows,num_cols=matrices.shape[0],matrices.shape[1]\n",
        "\n",
        "    # 创建子图网络\n",
        "    fig,axes=plt.subplots(num_rows,num_cols,figsize=figsize,\n",
        "                          sharex=True,sharey=True,squeeze=False)\n",
        "    # 遍历所有矩阵并绘制热力图\n",
        "    for i in range(num_rows):\n",
        "        for j in range(num_cols):\n",
        "            ax=axes[i,j]\n",
        "            # 将张量转换为numpy数组并分离计算图\n",
        "            matrix=matrices[i,j].detach().numpy()\n",
        "\n",
        "            # 使用热力图显示矩阵\n",
        "            pcm=ax.imshow(matrix,cmap='Reds')\n",
        "\n",
        "            # 设置坐标轴标签\n",
        "            if i==num_rows-1:#最后一行显示x轴标签\n",
        "                ax.set_xlabel(xlabel)\n",
        "            if j==0:#第一列显示y轴标签\n",
        "                ax.set_ylabel(ylabel)\n",
        "            if titles:\n",
        "                ax.set_title(titles[j])\n",
        "\n",
        "            # 隐藏刻度线\n",
        "            ax.xaxis.set_ticks_position('none')\n",
        "            ax.yaxis.set_ticks_position('none')\n",
        "\n",
        "    # Add a colorbar\n",
        "    fig.colorbar(pcm, ax=axes.ravel().tolist())\n",
        "    plt.show()"
      ],
      "metadata": {
        "id": "qX8imPZrMywU"
      },
      "id": "qX8imPZrMywU",
      "execution_count": 6,
      "outputs": []
    },
    {
      "cell_type": "code",
      "execution_count": 8,
      "id": "080c4919",
      "metadata": {
        "execution": {
          "iopub.execute_input": "2023-08-18T19:43:48.508521Z",
          "iopub.status.busy": "2023-08-18T19:43:48.507880Z",
          "iopub.status.idle": "2023-08-18T19:43:48.515032Z",
          "shell.execute_reply": "2023-08-18T19:43:48.514260Z"
        },
        "origin_pos": 8,
        "tab": [
          "pytorch"
        ],
        "id": "080c4919"
      },
      "outputs": [],
      "source": [
        "def masked_softmax(X, valid_lens):\n",
        "    \"\"\"\n",
        "    带掩码的softmax操作：对最后一个轴进行softmax，同时掩码掉无效位置\n",
        "\n",
        "    参数:\n",
        "        X: 输入张量，形状为 (batch_size, 序列长度, 特征维度)\n",
        "        valid_lens: 有效长度，可以是标量或张量\n",
        "\n",
        "    返回:\n",
        "        应用了掩码和softmax后的张量\n",
        "    \"\"\"\n",
        "    def _sequence_mask(X, valid_len, value=0):\n",
        "        \"\"\"\n",
        "        内部函数：创建序列掩码\n",
        "\n",
        "        参数:\n",
        "            X: 输入张量\n",
        "            valid_len: 每个序列的有效长度\n",
        "            value: 掩码位置填充的值\n",
        "\n",
        "        返回:\n",
        "            应用了掩码的张量\n",
        "        \"\"\"\n",
        "        maxlen = X.size(1)\n",
        "\n",
        "        # 创建掩码：对于每个位置，如果索引小于有效长度则为True，否则为False\n",
        "        mask = torch.arange((maxlen), dtype=torch.float32,\n",
        "                            device=X.device)[None, :] < valid_len[:, None]\n",
        "\n",
        "        # 将掩码为False的位置设置为指定的值\n",
        "        X[~mask] = value\n",
        "        return X\n",
        "\n",
        "    # 没有提供有效长度，直接返回标准sofemax\n",
        "    if valid_lens is None:\n",
        "        return nn.functional.softmax(X, dim=-1)\n",
        "    else:\n",
        "        shape = X.shape\n",
        "\n",
        "        # 处理不同维度的有效长度\n",
        "        if valid_lens.dim() == 1:\n",
        "            # 如果是一维,复制到每个位置\n",
        "            valid_lens = torch.repeat_interleave(valid_lens, shape[1])\n",
        "        else:\n",
        "            # 如果是二维,展平\n",
        "            valid_lens = valid_lens.reshape(-1)\n",
        "\n",
        "        # 应用序列掩码,将无效位置设置为很小的值\n",
        "        X = _sequence_mask(X.reshape(-1, shape[-1]), valid_lens, value=-1e6)\n",
        "\n",
        "        # 应用softmax并恢复原始形状\n",
        "        return nn.functional.softmax(X.reshape(shape), dim=-1)"
      ]
    },
    {
      "cell_type": "markdown",
      "id": "ca7b144c",
      "metadata": {
        "id": "ca7b144c"
      },
      "source": [
        "Illustrate how this function works"
      ]
    },
    {
      "cell_type": "code",
      "execution_count": null,
      "id": "b0fb493b",
      "metadata": {
        "execution": {
          "iopub.execute_input": "2023-08-18T19:43:48.518456Z",
          "iopub.status.busy": "2023-08-18T19:43:48.517778Z",
          "iopub.status.idle": "2023-08-18T19:43:48.554108Z",
          "shell.execute_reply": "2023-08-18T19:43:48.553283Z"
        },
        "origin_pos": 13,
        "tab": [
          "pytorch"
        ],
        "id": "b0fb493b",
        "outputId": "2fdd17c7-8e7c-49c8-ae08-3483dc413176"
      },
      "outputs": [
        {
          "data": {
            "text/plain": [
              "tensor([[[0.4448, 0.5552, 0.0000, 0.0000],\n",
              "         [0.4032, 0.5968, 0.0000, 0.0000]],\n",
              "\n",
              "        [[0.2795, 0.2805, 0.4400, 0.0000],\n",
              "         [0.2798, 0.3092, 0.4110, 0.0000]]])"
            ]
          },
          "execution_count": 3,
          "metadata": {},
          "output_type": "execute_result"
        }
      ],
      "source": [
        "masked_softmax(torch.rand(2, 2, 4), torch.tensor([2, 3]))"
      ]
    },
    {
      "cell_type": "code",
      "execution_count": null,
      "id": "0eff10c9",
      "metadata": {
        "execution": {
          "iopub.execute_input": "2023-08-18T19:43:48.557828Z",
          "iopub.status.busy": "2023-08-18T19:43:48.557262Z",
          "iopub.status.idle": "2023-08-18T19:43:48.564098Z",
          "shell.execute_reply": "2023-08-18T19:43:48.563239Z"
        },
        "origin_pos": 18,
        "tab": [
          "pytorch"
        ],
        "id": "0eff10c9",
        "outputId": "55c32f68-acad-4d22-a7a3-7055b2e1bcbe"
      },
      "outputs": [
        {
          "data": {
            "text/plain": [
              "tensor([[[1.0000, 0.0000, 0.0000, 0.0000],\n",
              "         [0.4109, 0.2794, 0.3097, 0.0000]],\n",
              "\n",
              "        [[0.3960, 0.6040, 0.0000, 0.0000],\n",
              "         [0.2557, 0.1833, 0.2420, 0.3190]]])"
            ]
          },
          "execution_count": 4,
          "metadata": {},
          "output_type": "execute_result"
        }
      ],
      "source": [
        "masked_softmax(torch.rand(2, 2, 4), torch.tensor([[1, 3], [2, 4]]))"
      ]
    },
    {
      "cell_type": "code",
      "execution_count": 9,
      "id": "1d592456",
      "metadata": {
        "execution": {
          "iopub.execute_input": "2023-08-18T19:43:48.567605Z",
          "iopub.status.busy": "2023-08-18T19:43:48.567037Z",
          "iopub.status.idle": "2023-08-18T19:43:48.572146Z",
          "shell.execute_reply": "2023-08-18T19:43:48.571131Z"
        },
        "origin_pos": 23,
        "tab": [
          "pytorch"
        ],
        "colab": {
          "base_uri": "https://localhost:8080/"
        },
        "id": "1d592456",
        "outputId": "ff6d0ee0-1739-4307-b952-be9d6846f240"
      },
      "outputs": [
        {
          "output_type": "execute_result",
          "data": {
            "text/plain": [
              "tensor([[[4., 4., 4., 4., 4., 4.],\n",
              "         [4., 4., 4., 4., 4., 4.],\n",
              "         [4., 4., 4., 4., 4., 4.]],\n",
              "\n",
              "        [[4., 4., 4., 4., 4., 4.],\n",
              "         [4., 4., 4., 4., 4., 4.],\n",
              "         [4., 4., 4., 4., 4., 4.]]])"
            ]
          },
          "metadata": {},
          "execution_count": 9
        }
      ],
      "source": [
        "Q = torch.ones((2, 3, 4))\n",
        "K = torch.ones((2, 4, 6))\n",
        "check_shape(torch.bmm(Q, K), (2, 3, 6))"
      ]
    },
    {
      "cell_type": "markdown",
      "id": "935cb045",
      "metadata": {
        "id": "935cb045"
      },
      "source": [
        "Scaled Dot Product Attention"
      ]
    },
    {
      "cell_type": "code",
      "execution_count": 10,
      "id": "33207d5f",
      "metadata": {
        "execution": {
          "iopub.execute_input": "2023-08-18T19:43:48.575743Z",
          "iopub.status.busy": "2023-08-18T19:43:48.575036Z",
          "iopub.status.idle": "2023-08-18T19:43:48.581055Z",
          "shell.execute_reply": "2023-08-18T19:43:48.580209Z"
        },
        "origin_pos": 28,
        "tab": [
          "pytorch"
        ],
        "id": "33207d5f"
      },
      "outputs": [],
      "source": [
        "class DotProductAttention(nn.Module):\n",
        "    \"\"\"\n",
        "    缩放点积注意力机制\n",
        "\n",
        "    原理：通过计算查询（Query）和键（Key）的点积来得到注意力分数，\n",
        "          然后通过softmax得到注意力权重，最后对值（Value）进行加权求和\n",
        "\n",
        "    公式：Attention(Q, K, V) = softmax(QK^T/√d)V\n",
        "    \"\"\"\n",
        "    def __init__(self, dropout):\n",
        "        \"\"\"\n",
        "        初始化缩放点积注意力\n",
        "\n",
        "        参数:\n",
        "            dropout: dropout比率，用于防止过拟合\n",
        "        \"\"\"\n",
        "        super().__init__()\n",
        "        self.dropout = nn.Dropout(dropout)\n",
        "\n",
        "    def forward(self, queries, keys, values, valid_lens=None):\n",
        "        \"\"\"\n",
        "        前向传播\n",
        "\n",
        "        参数:\n",
        "            queries: 查询张量，形状为 (batch_size, 查询数量, 特征维度)\n",
        "            keys: 键张量，形状为 (batch_size, 键值对数量, 特征维度)\n",
        "            values: 值张量，形状为 (batch_size, 键值对数量, 输出维度)\n",
        "            valid_lens: 有效长度，用于掩码\n",
        "\n",
        "        返回:\n",
        "            加权求和后的结果，形状为 (batch_size, 查询数量, 输出维度)\n",
        "        \"\"\"\n",
        "        d = queries.shape[-1]\n",
        "        scores = torch.bmm(queries, keys.transpose(1, 2)) / math.sqrt(d)\n",
        "        self.attention_weights = masked_softmax(scores, valid_lens)\n",
        "        return torch.bmm(self.dropout(self.attention_weights), values)"
      ]
    },
    {
      "cell_type": "markdown",
      "id": "c63fab7b",
      "metadata": {
        "id": "c63fab7b"
      },
      "source": [
        "Illustrate how the `DotProductAttention` class works"
      ]
    },
    {
      "cell_type": "code",
      "execution_count": 11,
      "id": "f40e370d",
      "metadata": {
        "execution": {
          "iopub.execute_input": "2023-08-18T19:43:48.594461Z",
          "iopub.status.busy": "2023-08-18T19:43:48.593898Z",
          "iopub.status.idle": "2023-08-18T19:43:48.969221Z",
          "shell.execute_reply": "2023-08-18T19:43:48.968308Z"
        },
        "origin_pos": 37,
        "tab": [
          "pytorch"
        ],
        "colab": {
          "base_uri": "https://localhost:8080/",
          "height": 238
        },
        "id": "f40e370d",
        "outputId": "d7edd0c7-c687-4053-f72d-e9f4486eab82"
      },
      "outputs": [
        {
          "output_type": "display_data",
          "data": {
            "text/plain": [
              "<Figure size 350x250 with 2 Axes>"
            ],
            "image/png": "[encoded data removed]"
          },
          "metadata": {}
        }
      ],
      "source": [
        "queries = torch.normal(0, 1, (2, 1, 2))\n",
        "keys = torch.normal(0, 1, (2, 10, 2))\n",
        "values = torch.normal(0, 1, (2, 10, 4))\n",
        "valid_lens = torch.tensor([2, 6])\n",
        "\n",
        "attention = DotProductAttention(dropout=0.5)\n",
        "attention.eval()\n",
        "check_shape(attention(queries, keys, values, valid_lens), (2, 1, 4))\n",
        "\n",
        "show_heatmaps(attention.attention_weights.reshape((1, 1, 2, 10)),\n",
        "                  xlabel='Keys', ylabel='Queries')"
      ]
    },
    {
      "cell_type": "markdown",
      "id": "ae2e4399",
      "metadata": {
        "id": "ae2e4399"
      },
      "source": [
        "Additive Attention"
      ]
    },
    {
      "cell_type": "code",
      "execution_count": 15,
      "id": "3a2e6dee",
      "metadata": {
        "execution": {
          "iopub.execute_input": "2023-08-18T19:43:48.973108Z",
          "iopub.status.busy": "2023-08-18T19:43:48.972388Z",
          "iopub.status.idle": "2023-08-18T19:43:48.979819Z",
          "shell.execute_reply": "2023-08-18T19:43:48.978914Z"
        },
        "origin_pos": 41,
        "tab": [
          "pytorch"
        ],
        "colab": {
          "base_uri": "https://localhost:8080/",
          "height": 110
        },
        "id": "3a2e6dee",
        "outputId": "09b01fbc-2c29-4480-c052-ab17ee29ad9c"
      },
      "outputs": [
        {
          "output_type": "error",
          "ename": "IndentationError",
          "evalue": "unexpected indent (ipython-input-2115065557.py, line 39)",
          "traceback": [
            "\u001b[0;36m  File \u001b[0;32m\"/tmp/ipython-input-2115065557.py\"\u001b[0;36m, line \u001b[0;32m39\u001b[0m\n\u001b[0;31m    queries, keys = self.W_q(queries), self.W_k(keys)\u001b[0m\n\u001b[0m    ^\u001b[0m\n\u001b[0;31mIndentationError\u001b[0m\u001b[0;31m:\u001b[0m unexpected indent\n"
          ]
        }
      ],
      "source": [
        "class AdditiveAttention(nn.Module):\n",
        "    \"\"\"\n",
        "    加性注意力机制（也称为Bahdanau注意力）\n",
        "\n",
        "    原理：通过一个小的神经网络来计算查询和键之间的兼容性分数\n",
        "\n",
        "    公式：注意力分数 = v^T * tanh(W_q * q + W_k * k)\n",
        "\n",
        "    优点：适用于查询和键的维度不同的情况\n",
        "    \"\"\"\n",
        "\n",
        "    def __init__(self, num_hiddens, dropout, **kwargs):\n",
        "        \"\"\"\n",
        "        初始化加性注意力\n",
        "\n",
        "        参数:\n",
        "            num_hiddens: 隐藏层维度\n",
        "            dropout: dropout比率\n",
        "        \"\"\"\n",
        "        super().__init__(**kwargs)\n",
        "        self.W_k = nn.LazyLinear(num_hiddens, bias=False)\n",
        "        self.W_q = nn.LazyLinear(num_hiddens, bias=False)\n",
        "        self.w_v = nn.LazyLinear(1, bias=False)\n",
        "        self.dropout = nn.Dropout(dropout)\n",
        "\n",
        "    def forward(self, queries, keys, values, valid_lens):\n",
        "       \"\"\"\n",
        "        前向传播\n",
        "\n",
        "        参数:\n",
        "            queries: 查询张量\n",
        "            keys: 键张量\n",
        "            values: 值张量\n",
        "            valid_lens: 有效长度\n",
        "\n",
        "        返回:\n",
        "            加权求和后的结果\n",
        "        \"\"\"\n",
        "        queries, keys = self.W_q(queries), self.W_k(keys)\n",
        "        features = queries.unsqueeze(2) + keys.unsqueeze(1)\n",
        "        features = torch.tanh(features)\n",
        "        scores = self.w_v(features).squeeze(-1)\n",
        "        self.attention_weights = masked_softmax(scores, valid_lens)\n",
        "        return torch.bmm(self.dropout(self.attention_weights), values)"
      ]
    },
    {
      "cell_type": "markdown",
      "id": "b338adaa",
      "metadata": {
        "id": "b338adaa"
      },
      "source": [
        "See how `AdditiveAttention` works"
      ]
    },
    {
      "cell_type": "code",
      "execution_count": 13,
      "id": "bf7a330b",
      "metadata": {
        "execution": {
          "iopub.execute_input": "2023-08-18T19:43:48.996815Z",
          "iopub.status.busy": "2023-08-18T19:43:48.996248Z",
          "iopub.status.idle": "2023-08-18T19:43:49.212301Z",
          "shell.execute_reply": "2023-08-18T19:43:49.211395Z"
        },
        "origin_pos": 50,
        "tab": [
          "pytorch"
        ],
        "colab": {
          "base_uri": "https://localhost:8080/",
          "height": 221
        },
        "id": "bf7a330b",
        "outputId": "8c18d939-5a85-4e70-ad3e-cf1336b6291f"
      },
      "outputs": [
        {
          "output_type": "error",
          "ename": "NameError",
          "evalue": "name 'AdditiveAttention' is not defined",
          "traceback": [
            "\u001b[0;31m---------------------------------------------------------------------------\u001b[0m",
            "\u001b[0;31mNameError\u001b[0m                                 Traceback (most recent call last)",
            "\u001b[0;32m/tmp/ipython-input-1523472570.py\u001b[0m in \u001b[0;36m<cell line: 0>\u001b[0;34m()\u001b[0m\n\u001b[1;32m      1\u001b[0m \u001b[0mqueries\u001b[0m \u001b[0;34m=\u001b[0m \u001b[0mtorch\u001b[0m\u001b[0;34m.\u001b[0m\u001b[0mnormal\u001b[0m\u001b[0;34m(\u001b[0m\u001b[0;36m0\u001b[0m\u001b[0;34m,\u001b[0m \u001b[0;36m1\u001b[0m\u001b[0;34m,\u001b[0m \u001b[0;34m(\u001b[0m\u001b[0;36m2\u001b[0m\u001b[0;34m,\u001b[0m \u001b[0;36m1\u001b[0m\u001b[0;34m,\u001b[0m \u001b[0;36m20\u001b[0m\u001b[0;34m)\u001b[0m\u001b[0;34m)\u001b[0m\u001b[0;34m\u001b[0m\u001b[0;34m\u001b[0m\u001b[0m\n\u001b[1;32m      2\u001b[0m \u001b[0;34m\u001b[0m\u001b[0m\n\u001b[0;32m----> 3\u001b[0;31m \u001b[0mattention\u001b[0m \u001b[0;34m=\u001b[0m \u001b[0mAdditiveAttention\u001b[0m\u001b[0;34m(\u001b[0m\u001b[0mnum_hiddens\u001b[0m\u001b[0;34m=\u001b[0m\u001b[0;36m8\u001b[0m\u001b[0;34m,\u001b[0m \u001b[0mdropout\u001b[0m\u001b[0;34m=\u001b[0m\u001b[0;36m0.1\u001b[0m\u001b[0;34m)\u001b[0m\u001b[0;34m\u001b[0m\u001b[0;34m\u001b[0m\u001b[0m\n\u001b[0m\u001b[1;32m      4\u001b[0m \u001b[0mattention\u001b[0m\u001b[0;34m.\u001b[0m\u001b[0meval\u001b[0m\u001b[0;34m(\u001b[0m\u001b[0;34m)\u001b[0m\u001b[0;34m\u001b[0m\u001b[0;34m\u001b[0m\u001b[0m\n\u001b[1;32m      5\u001b[0m \u001b[0mcheck_shape\u001b[0m\u001b[0;34m(\u001b[0m\u001b[0mattention\u001b[0m\u001b[0;34m(\u001b[0m\u001b[0mqueries\u001b[0m\u001b[0;34m,\u001b[0m \u001b[0mkeys\u001b[0m\u001b[0;34m,\u001b[0m \u001b[0mvalues\u001b[0m\u001b[0;34m,\u001b[0m \u001b[0mvalid_lens\u001b[0m\u001b[0;34m)\u001b[0m\u001b[0;34m,\u001b[0m \u001b[0;34m(\u001b[0m\u001b[0;36m2\u001b[0m\u001b[0;34m,\u001b[0m \u001b[0;36m1\u001b[0m\u001b[0;34m,\u001b[0m \u001b[0;36m4\u001b[0m\u001b[0;34m)\u001b[0m\u001b[0;34m)\u001b[0m\u001b[0;34m\u001b[0m\u001b[0;34m\u001b[0m\u001b[0m\n",
            "\u001b[0;31mNameError\u001b[0m: name 'AdditiveAttention' is not defined"
          ]
        }
      ],
      "source": [
        "queries = torch.normal(0, 1, (2, 1, 20))\n",
        "\n",
        "attention = AdditiveAttention(num_hiddens=8, dropout=0.1)\n",
        "attention.eval()\n",
        "check_shape(attention(queries, keys, values, valid_lens), (2, 1, 4))\n",
        "\n",
        "show_heatmaps(attention.attention_weights.reshape((1, 1, 2, 10)),\n",
        "                  xlabel='Keys', ylabel='Queries')"
      ]
    }
  ],
  "metadata": {
    "celltoolbar": "Slideshow",
    "language_info": {
      "name": "python"
    },
    "required_libs": [],
    "rise": {
      "autolaunch": true,
      "enable_chalkboard": true,
      "overlay": "<div class='my-top-right'><img height=80px src='http://d2l.ai/_static/logo-with-text.png'/></div><div class='my-top-left'></div>",
      "scroll": true
    },
    "colab": {
      "provenance": [],
      "include_colab_link": true
    },
    "kernelspec": {
      "name": "python3",
      "display_name": "Python 3"
    }
  },
  "nbformat": 4,
  "nbformat_minor": 5
}