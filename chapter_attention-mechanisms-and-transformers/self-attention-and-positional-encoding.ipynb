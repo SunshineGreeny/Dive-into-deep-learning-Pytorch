{
  "cells": [
    {
      "cell_type": "markdown",
      "metadata": {
        "id": "view-in-github",
        "colab_type": "text"
      },
      "source": [
        "<a href=\"https://colab.research.google.com/github/SunshineGreeny/Dive-into-deep-learning-Pytorch/blob/main/chapter_attention-mechanisms-and-transformers/self-attention-and-positional-encoding.ipynb\" target=\"_parent\"><img src=\"https://colab.research.google.com/assets/colab-badge.svg\" alt=\"Open In Colab\"/></a>"
      ]
    },
    {
      "cell_type": "markdown",
      "id": "248bcc01",
      "metadata": {
        "id": "248bcc01"
      },
      "source": [
        "# Self-Attention and Positional Encoding\n",
        "\n"
      ]
    },
    {
      "cell_type": "code",
      "execution_count": 11,
      "id": "b2969e34",
      "metadata": {
        "execution": {
          "iopub.execute_input": "2023-08-18T19:30:32.804452Z",
          "iopub.status.busy": "2023-08-18T19:30:32.803811Z",
          "iopub.status.idle": "2023-08-18T19:30:35.929844Z",
          "shell.execute_reply": "2023-08-18T19:30:35.926598Z"
        },
        "origin_pos": 3,
        "tab": [
          "pytorch"
        ],
        "id": "b2969e34"
      },
      "outputs": [],
      "source": [
        "import math\n",
        "import torch\n",
        "from torch import nn\n",
        "import matplotlib.pyplot as plt"
      ]
    },
    {
      "cell_type": "markdown",
      "source": [
        "Tools"
      ],
      "metadata": {
        "id": "ZukWZqIc_h9d"
      },
      "id": "ZukWZqIc_h9d"
    },
    {
      "cell_type": "code",
      "source": [
        "def check_shape(tensor, expected_shape):\n",
        "    assert tensor.shape == expected_shape, \\\n",
        "        f\"Expected shape: {expected_shape}, but got: {tensor.shape}\"\n",
        "    return tensor\n",
        "\n",
        "\n",
        "def show_heatmaps(matrices, xlabel, ylabel, titles=None, figsize=(3.5, 2.5),\n",
        "                  sharex=True,sharey=True,squeeze=False):\n",
        "    num_rows,num_cols=matrices.shape[0],matrices.shape[1]\n",
        "\n",
        "    # 创建子图网络\n",
        "    fig,axes=plt.subplots(num_rows,num_cols,figsize=figsize,\n",
        "                          sharex=True,sharey=True,squeeze=False)\n",
        "    # 遍历所有矩阵并绘制热力图\n",
        "    for i in range(num_rows):\n",
        "        for j in range(num_cols):\n",
        "            ax=axes[i,j]\n",
        "            # 将张量转换为numpy数组并分离计算图\n",
        "            matrix=matrices[i,j].detach().numpy()\n",
        "\n",
        "            # 使用热力图显示矩阵\n",
        "            pcm=ax.imshow(matrix,cmap='Reds')\n",
        "\n",
        "            # 设置坐标轴标签\n",
        "            if i==num_rows-1:#最后一行显示x轴标签\n",
        "                ax.set_xlabel(xlabel)\n",
        "            if j==0:#第一列显示y轴标签\n",
        "                ax.set_ylabel(ylabel)\n",
        "            if titles:\n",
        "                ax.set_title(titles[j])\n",
        "\n",
        "            # 隐藏刻度线\n",
        "            ax.xaxis.set_ticks_position('none')\n",
        "            ax.yaxis.set_ticks_position('none')\n",
        "\n",
        "    # Add a colorbar\n",
        "    fig.colorbar(pcm, ax=axes.ravel().tolist())\n",
        "    plt.show()\n",
        "\n",
        "\n",
        "def masked_softmax(X,valid_lens):\n",
        "  def _sequence_mask(X,valid_len,value=0):\n",
        "    maxlen=X.size(1)\n",
        "    mask=torch.arange((maxlen),dtype=torch.float32,\n",
        "                      device=X.device)[None,:]<valid_len[:,None]\n",
        "    X[~mask]=value\n",
        "    return X\n",
        "\n",
        "  if valid_lens is None:\n",
        "    return nn.functional.softmax(X,dim=-1)\n",
        "  else:\n",
        "    shape=X.shape\n",
        "\n",
        "    if valid_lens.dim()==1:\n",
        "      valid_lens=torch.repeat_interleave(valid_lens,shape[1])\n",
        "    else:\n",
        "      valid_lens=valid_lens.reshape(-1)\n",
        "\n",
        "    X=_sequence_mask(X.reshape(-1,shape[-1]),valid_lens,value=-1e6)\n",
        "    return nn.functional.softmax(X.reshape(shape),dim=-1)\n",
        "\n",
        "\n",
        "class DotProductAttention(nn.Module):\n",
        "  def __init__(self,dropout):\n",
        "    super().__init__()\n",
        "    self.dropout=nn.Dropout(dropout)\n",
        "\n",
        "  def forward(self,queries,keys,values,valid_lens=None):\n",
        "    d=queries.shape[-1]\n",
        "    scores=torch.bmm(queries,keys.transpose(1,2))/math.sqrt(d)\n",
        "    self.attention_weights=masked_softmax(scores,valid_lens) # Corrected here\n",
        "    return torch.bmm(self.dropout(self.attention_weights),values)\n",
        "\n",
        "\n",
        "class MultiHeadAttention(nn.Module):\n",
        "    \"\"\"Multi-head attention.\"\"\"\n",
        "    def __init__(self,num_hiddens,num_heads,dropout,bias=False,**kwargs):\n",
        "      super(MultiHeadAttention,self).__init__(**kwargs)\n",
        "      self.num_heads=num_heads\n",
        "      self.num_hiddens=num_hiddens\n",
        "      # 线性映射qkv和输出\n",
        "      self.W_q=nn.Linear(num_hiddens,num_hiddens,bias=bias)\n",
        "      self.W_k=nn.Linear(num_hiddens,num_hiddens,bias=bias)\n",
        "      self.W_v=nn.Linear(num_hiddens,num_hiddens,bias=bias)\n",
        "      self.W_o=nn.Linear(num_hiddens,num_hiddens,bias=bias)\n",
        "      self.dropout=nn.Dropout(dropout)\n",
        "      self.attention=DotProductAttention(dropout)\n",
        "\n",
        "    def transpose_qkv(self,X):\n",
        "      # 输入X的形状:(batch_size，查询或者“键－值”对的个数，num_hiddens)\n",
        "      X=X.reshape(X.shape[0],X.shape[1],self.num_heads,-1)\n",
        "      X=X.permute(0,2,1,3)\n",
        "      # 输出\n",
        "      return X.reshape(-1,X.shape[2],X.shape[3])#合并batch和head\n",
        "\n",
        "    def transpose_output(self,X):\n",
        "      # Undo the transpose and combine the heads\n",
        "      X = X.reshape(-1, self.num_heads, X.shape[1], X.shape[2])\n",
        "      X = X.permute(0, 2, 1, 3)\n",
        "      # Reshape to original batch size and sequence length, with num_hiddens\n",
        "      return X.reshape(X.shape[0], X.shape[1], -1)\n",
        "\n",
        "    def forward(self,queries,keys,values,valid_lens):\n",
        "      # queries，keys，values的形状:\n",
        "      Q=self.transpose_qkv(self.W_q(queries))\n",
        "      K=self.transpose_qkv(self.W_k(keys))\n",
        "      V=self.transpose_qkv(self.W_v(values))\n",
        "      # (batch_size，查询或者“键－值”对的个数，num_hiddens)\n",
        "\n",
        "      if valid_lens is not None:\n",
        "        # 在轴0，将第一项（标量或者矢量)复制num_heads次，然后如此复制第二项，\n",
        "        # 然后诸如此类。\n",
        "        valid_lens=torch.repeat_interleave(\n",
        "            valid_lens,repeats=self.num_heads,dim=0)\n",
        "\n",
        "      output=self.attention(Q,K,V,valid_lens)\n",
        "      output=self.transpose_output(output)\n",
        "      return self.W_o(output)"
      ],
      "metadata": {
        "id": "DRt4ihsq_jUR"
      },
      "id": "DRt4ihsq_jUR",
      "execution_count": 15,
      "outputs": []
    },
    {
      "cell_type": "markdown",
      "id": "39ee3522",
      "metadata": {
        "id": "39ee3522"
      },
      "source": [
        "Self-Attention"
      ]
    },
    {
      "cell_type": "code",
      "execution_count": 16,
      "id": "13743b61",
      "metadata": {
        "execution": {
          "iopub.execute_input": "2023-08-18T19:30:35.935527Z",
          "iopub.status.busy": "2023-08-18T19:30:35.934433Z",
          "iopub.status.idle": "2023-08-18T19:30:35.974177Z",
          "shell.execute_reply": "2023-08-18T19:30:35.973091Z"
        },
        "origin_pos": 7,
        "tab": [
          "pytorch"
        ],
        "colab": {
          "base_uri": "https://localhost:8080/"
        },
        "id": "13743b61",
        "outputId": "bb4cf812-2432-480a-97e3-ba8f078b0483"
      },
      "outputs": [
        {
          "output_type": "execute_result",
          "data": {
            "text/plain": [
              "tensor([[[ 1.9458e-01, -3.1267e-01, -4.3155e-01, -7.6889e-01,  2.2897e-01,\n",
              "          -6.2889e-01,  3.5071e-01,  8.1099e-01,  4.8938e-01, -1.2107e-01,\n",
              "           7.8875e-01, -2.5901e-01,  1.2733e-01,  4.1988e-01,  2.7949e-01,\n",
              "          -2.9085e-01,  4.8428e-01,  3.3161e-01,  4.8349e-01, -1.9806e-01,\n",
              "          -5.8118e-01, -6.0638e-01,  8.4236e-01, -8.5931e-01, -2.9654e-01,\n",
              "          -2.7691e-01,  6.1304e-01, -3.1151e-01,  2.0878e-01,  4.8760e-01,\n",
              "          -9.8865e-01, -1.5838e-01, -4.7706e-01,  7.7707e-01,  2.6968e-01,\n",
              "          -9.8430e-01,  3.4018e-01, -4.4347e-01,  2.4316e-01, -2.3776e-01,\n",
              "          -2.0503e-01, -8.0744e-01,  2.6629e-01,  5.7395e-01,  2.7591e-01,\n",
              "          -3.1909e-01,  7.9512e-01, -9.5609e-01,  6.8895e-02, -6.0477e-01,\n",
              "          -1.3815e-01,  1.0432e+00, -4.8018e-02,  7.9961e-02, -7.6823e-01,\n",
              "          -7.8518e-01,  1.9307e-01, -9.6936e-01, -4.3333e-01,  5.3075e-01,\n",
              "          -7.7685e-01,  5.9349e-01, -6.9652e-01,  6.0297e-01,  8.5366e-02,\n",
              "           2.8005e-01,  4.4646e-01,  6.3632e-01,  1.1545e+00,  3.2690e-01,\n",
              "           2.7148e-01, -2.5679e-01, -2.8870e-01,  1.7415e-01,  1.3206e-01,\n",
              "          -4.2640e-01,  1.3311e+00,  5.4943e-01, -7.4040e-01, -1.1572e-02,\n",
              "           4.3445e-01,  3.1627e-01, -2.6573e-01, -1.8528e-01,  4.6041e-01,\n",
              "           2.4495e-01,  1.8980e-01,  3.4794e-01,  5.4412e-01, -3.8791e-01,\n",
              "          -3.0394e-01, -1.0878e-03, -2.7194e-01, -1.5222e-01,  2.1147e-01,\n",
              "           2.2894e-01, -8.0099e-02, -9.3657e-01,  5.1151e-01,  1.2369e+00],\n",
              "         [ 3.1317e-01, -1.3321e-01, -1.0890e-01,  1.2795e-01, -4.8954e-02,\n",
              "          -1.9946e-01,  3.4047e-01,  5.4686e-01,  3.1552e-01, -3.5211e-01,\n",
              "           3.6740e-01, -1.1374e-01,  1.6101e-01,  3.8970e-01,  3.4000e-02,\n",
              "           8.8729e-03,  3.5523e-01,  1.2384e-01,  2.9456e-01, -1.1323e-01,\n",
              "          -1.1539e-01, -2.4339e-01,  6.5783e-01, -7.0714e-01, -1.2934e-01,\n",
              "          -4.9383e-01,  4.8450e-01, -2.3701e-01,  1.5685e-01,  3.0429e-01,\n",
              "          -3.4661e-01,  9.7373e-02, -2.9262e-01,  5.5366e-01,  7.5776e-01,\n",
              "          -5.0000e-01,  1.3210e-01, -5.6277e-01, -8.9454e-03, -7.3249e-02,\n",
              "          -2.5926e-01, -5.0471e-01,  2.1969e-01,  3.5929e-01, -1.1095e-01,\n",
              "          -2.2208e-02,  4.1154e-01, -5.5842e-01,  1.4845e-01, -1.5793e-01,\n",
              "          -2.5330e-01,  6.7965e-01, -5.9806e-02,  5.7527e-02,  1.1239e-02,\n",
              "          -8.0926e-01,  5.2292e-02, -5.6871e-01,  4.3159e-02,  2.7355e-01,\n",
              "          -3.7940e-01,  1.7501e-01, -4.1088e-01,  3.6271e-01, -2.8122e-02,\n",
              "           2.7551e-01,  1.7003e-01,  4.5819e-01,  5.5022e-01,  2.0940e-01,\n",
              "          -3.7235e-02, -5.7494e-02,  1.2963e-01, -4.3254e-02, -7.2293e-02,\n",
              "          -2.2703e-01,  4.5215e-01,  4.5926e-01, -4.0519e-01, -2.9762e-01,\n",
              "           1.7666e-01, -7.8036e-02, -2.2916e-01, -2.2683e-01,  2.2086e-01,\n",
              "          -1.9038e-01, -2.2504e-01,  1.3546e-01,  4.8941e-01, -5.4032e-02,\n",
              "           1.4085e-01,  1.2712e-01, -3.2535e-01,  2.2281e-02,  2.6142e-01,\n",
              "           3.3336e-01, -4.8268e-02, -4.3138e-01,  5.1073e-02,  6.5339e-01],\n",
              "         [ 4.8298e-01, -3.5965e-01, -3.4655e-01, -2.9436e-01,  1.9548e-01,\n",
              "          -7.4622e-01,  6.3805e-01,  1.0804e+00,  7.2931e-01, -5.4583e-01,\n",
              "           7.8171e-01, -2.6227e-01,  6.8014e-02,  7.2967e-01,  1.7839e-01,\n",
              "          -1.0985e-01,  5.9908e-01,  1.4185e-01,  8.4073e-01, -2.2857e-01,\n",
              "          -3.7979e-01, -6.3061e-01,  1.2477e+00, -1.1544e+00, -4.2726e-01,\n",
              "          -5.6507e-01,  8.9029e-01, -6.0547e-01,  2.2310e-01,  5.8312e-01,\n",
              "          -1.0951e+00, -9.7614e-04, -6.7618e-01,  9.9251e-01,  9.5843e-01,\n",
              "          -1.0991e+00,  2.7774e-01, -8.8428e-01,  9.2232e-02, -2.7336e-01,\n",
              "          -3.7025e-01, -9.0876e-01,  2.3091e-01,  7.3923e-01,  9.5878e-03,\n",
              "          -3.1387e-01,  9.0094e-01, -1.0228e+00,  2.2098e-01, -4.2960e-01,\n",
              "          -3.7597e-01,  1.3521e+00,  1.5219e-01,  5.2837e-02, -4.1097e-01,\n",
              "          -1.2071e+00,  8.1572e-02, -9.3182e-01, -1.7390e-01,  5.7830e-01,\n",
              "          -6.0230e-01,  4.7771e-01, -7.6260e-01,  7.5855e-01, -7.7053e-02,\n",
              "           2.1204e-01,  3.7218e-01,  8.7159e-01,  1.4554e+00,  4.7201e-01,\n",
              "           1.3677e-01,  2.1711e-04, -3.5171e-02,  1.7483e-01,  1.6697e-01,\n",
              "          -5.5856e-01,  1.2540e+00,  8.5322e-01, -8.6287e-01, -2.6801e-01,\n",
              "           2.1536e-01, -2.5783e-01, -2.6971e-01, -3.5048e-01,  6.5346e-01,\n",
              "          -2.6588e-01, -8.9916e-02,  2.4070e-01,  7.2495e-01, -3.2941e-01,\n",
              "           4.7109e-02,  1.1929e-01, -4.6941e-01, -1.5369e-01,  1.4203e-01,\n",
              "           3.4306e-01,  1.1839e-01, -9.8379e-01,  2.9600e-01,  1.3417e+00],\n",
              "         [ 6.0561e-02, -2.7516e-01, -1.4988e-01, -2.8450e-01,  3.1353e-01,\n",
              "          -7.6560e-01,  3.9495e-01,  6.4481e-01,  3.6152e-01, -2.3606e-02,\n",
              "           5.2028e-01, -1.0015e-02, -2.5887e-01,  6.3495e-01,  3.2535e-01,\n",
              "          -1.6831e-01,  3.1077e-01,  1.1385e-01,  5.6817e-01, -2.0555e-01,\n",
              "          -3.3031e-01, -5.5609e-01,  4.2629e-01, -2.9592e-01, -3.8552e-01,\n",
              "          -1.5359e-01,  3.1977e-01, -7.9101e-01, -8.1854e-02,  1.2902e-01,\n",
              "          -7.6269e-01, -4.7029e-01, -2.9369e-01,  5.0146e-01,  2.0039e-01,\n",
              "          -8.2681e-01,  8.5141e-03, -3.1730e-01,  3.8879e-01, -2.9182e-01,\n",
              "          -1.4602e-01, -2.2747e-01,  1.5290e-02,  5.1720e-01,  5.0007e-01,\n",
              "          -5.9403e-01,  7.1088e-01, -4.2917e-01,  3.8254e-02, -4.6079e-01,\n",
              "          -2.8008e-01,  7.7287e-01,  4.7457e-02,  8.2496e-02, -8.4227e-01,\n",
              "          -6.2071e-01,  1.1182e-01, -4.4243e-01, -1.7998e-01,  3.5174e-01,\n",
              "          -2.7585e-01,  3.3106e-01, -1.5443e-01,  3.6474e-01,  2.0596e-01,\n",
              "          -1.6746e-01,  3.8933e-01,  3.2437e-01,  1.2836e+00,  4.4670e-01,\n",
              "           4.9541e-01, -2.1563e-01, -1.4876e-01,  3.3873e-01,  3.3965e-01,\n",
              "          -4.5037e-01,  9.3173e-01,  4.8981e-01, -4.4920e-01,  1.1164e-02,\n",
              "           1.9935e-01, -1.6745e-01,  4.5470e-04, -7.6628e-02,  3.2168e-01,\n",
              "           2.5004e-01,  3.8291e-01,  8.2404e-02,  4.0197e-01, -4.1467e-01,\n",
              "          -5.1823e-01, -9.1503e-02,  2.7345e-02, -9.2166e-02, -1.0269e-01,\n",
              "          -3.5182e-01,  3.2899e-01, -5.7263e-01,  1.7972e-01,  1.0270e+00]],\n",
              "\n",
              "        [[ 1.7585e-01, -2.1917e-01, -3.7259e-01, -7.9465e-01,  2.0497e-01,\n",
              "          -4.7761e-01,  1.6377e-01,  6.6694e-01,  3.1138e-01, -2.2733e-02,\n",
              "           6.4271e-01, -2.0073e-01,  1.5491e-01,  2.6577e-01,  2.3323e-01,\n",
              "          -2.7133e-01,  3.9775e-01,  3.0807e-01,  2.8221e-01, -1.2136e-01,\n",
              "          -5.3173e-01, -4.8509e-01,  6.5886e-01, -7.0238e-01, -2.4656e-01,\n",
              "          -1.6621e-01,  4.6772e-01, -6.3814e-02,  1.8479e-01,  4.0838e-01,\n",
              "          -8.5750e-01, -4.3986e-02, -3.8876e-01,  5.6637e-01,  8.2120e-02,\n",
              "          -7.6413e-01,  3.7165e-01, -3.2028e-01,  1.8745e-01, -1.8036e-01,\n",
              "          -7.8606e-02, -7.2887e-01,  2.5983e-01,  4.6718e-01,  2.2543e-01,\n",
              "          -2.0678e-01,  5.6039e-01, -8.5705e-01, -2.0515e-03, -5.2445e-01,\n",
              "          -4.8227e-02,  7.8408e-01, -3.5187e-02,  3.6261e-02, -7.1179e-01,\n",
              "          -6.6034e-01,  1.8518e-01, -8.5132e-01, -4.1866e-01,  4.5556e-01,\n",
              "          -6.8332e-01,  5.7543e-01, -6.2239e-01,  5.1382e-01,  4.0252e-02,\n",
              "           3.2408e-01,  3.4484e-01,  5.6117e-01,  8.2422e-01,  2.0943e-01,\n",
              "           1.8847e-01, -2.2939e-01, -3.1308e-01,  1.0163e-01,  3.7579e-02,\n",
              "          -3.1109e-01,  1.1522e+00,  3.8773e-01, -6.5256e-01,  5.7464e-02,\n",
              "           4.1588e-01,  4.1377e-01, -2.4921e-01, -1.5363e-01,  3.4403e-01,\n",
              "           2.7503e-01,  2.0246e-01,  2.4768e-01,  4.1981e-01, -2.9147e-01,\n",
              "          -2.1196e-01,  1.5782e-02, -2.5946e-01, -7.3989e-02,  2.6022e-01,\n",
              "           2.8500e-01, -1.7477e-01, -8.2033e-01,  4.7310e-01,  9.7129e-01],\n",
              "         [ 2.6973e-01, -3.0441e-01, -1.8831e-01,  1.9465e-01, -2.0305e-02,\n",
              "          -4.9727e-01,  6.6882e-01,  8.4617e-01,  5.4229e-01, -3.7445e-01,\n",
              "           7.1954e-01, -1.5368e-01,  1.2105e-01,  7.6403e-01,  2.2256e-01,\n",
              "          -8.6053e-02,  5.7242e-01,  3.1250e-01,  5.2909e-01, -2.9451e-01,\n",
              "          -2.9229e-01, -5.3851e-01,  8.6775e-01, -9.5581e-01, -2.0633e-01,\n",
              "          -7.7618e-01,  6.8514e-01, -7.8071e-01,  1.5925e-01,  3.8451e-01,\n",
              "          -5.2758e-01, -2.8287e-01, -3.6210e-01,  9.7574e-01,  1.0598e+00,\n",
              "          -1.0093e+00,  5.1655e-02, -7.5304e-01,  2.5816e-01, -1.9397e-01,\n",
              "          -5.0035e-01, -6.1447e-01,  3.1565e-01,  6.0721e-01,  1.9465e-01,\n",
              "          -3.2110e-01,  9.3384e-01, -7.9237e-01,  2.3626e-01, -4.5211e-01,\n",
              "          -4.6659e-01,  1.1733e+00, -2.8547e-01,  2.0295e-01, -3.3782e-01,\n",
              "          -1.1916e+00,  1.5643e-01, -9.4666e-01,  1.3337e-03,  4.4689e-01,\n",
              "          -7.0925e-01,  2.6578e-01, -4.9210e-01,  4.9881e-01,  2.2743e-01,\n",
              "           2.7521e-01,  4.8072e-01,  5.4431e-01,  1.2222e+00,  4.7489e-01,\n",
              "           2.6532e-01, -3.5428e-01,  1.6446e-01,  8.6941e-02,  5.9749e-02,\n",
              "          -4.5501e-01,  8.5813e-01,  7.6284e-01, -5.6530e-01, -4.4056e-01,\n",
              "           4.1342e-01, -3.9042e-02, -3.0450e-01, -2.5601e-01,  2.9652e-01,\n",
              "           4.1640e-02, -1.2654e-01,  3.5450e-01,  8.4340e-01, -2.7602e-01,\n",
              "          -2.7912e-01,  6.0721e-02, -2.7907e-01, -2.8956e-02,  3.1869e-01,\n",
              "           1.3062e-01,  8.0655e-02, -6.7121e-01,  1.3051e-01,  1.3336e+00],\n",
              "         [ 3.7163e-02, -1.2935e-01, -2.9085e-01, -5.1987e-01, -2.3195e-02,\n",
              "          -1.2320e-01,  7.9690e-02,  4.1623e-01,  1.1339e-01,  1.0897e-01,\n",
              "           5.6165e-01, -1.6571e-01,  3.3048e-01,  1.1988e-01,  2.0266e-01,\n",
              "          -2.5820e-01,  3.6065e-01,  4.7039e-01, -9.4030e-02, -1.2408e-01,\n",
              "          -4.7517e-01, -3.2875e-01,  3.7877e-01, -6.1804e-01,  2.0686e-03,\n",
              "          -3.0850e-01,  3.1088e-01,  8.5427e-02,  2.1379e-01,  3.1315e-01,\n",
              "          -3.6022e-01, -9.0045e-02, -1.4025e-01,  5.0734e-01,  1.0352e-01,\n",
              "          -5.7773e-01,  2.9181e-01, -1.8293e-01,  2.1297e-01, -5.6477e-02,\n",
              "          -1.4108e-01, -6.0507e-01,  3.8261e-01,  2.9102e-01,  2.3306e-01,\n",
              "          -4.1147e-02,  4.5859e-01, -7.3755e-01, -5.4528e-03, -4.9965e-01,\n",
              "          -2.3219e-02,  5.5617e-01, -3.9003e-01,  1.2698e-01, -5.1902e-01,\n",
              "          -5.8104e-01,  2.4569e-01, -9.0937e-01, -3.2441e-01,  3.3899e-01,\n",
              "          -8.3093e-01,  4.3618e-01, -5.1720e-01,  3.1069e-01,  2.0144e-01,\n",
              "           5.1528e-01,  3.6646e-01,  3.3437e-01,  3.7404e-01,  9.6440e-02,\n",
              "           1.4622e-01, -4.7175e-01, -1.8584e-01, -6.5901e-02, -1.6081e-01,\n",
              "          -1.4230e-01,  7.9390e-01,  2.3320e-01, -4.2408e-01, -6.1766e-02,\n",
              "           5.9363e-01,  7.4409e-01, -3.3778e-01, -9.2452e-02,  4.1705e-02,\n",
              "           4.8067e-01,  8.2014e-02,  3.6405e-01,  4.6286e-01, -1.6880e-01,\n",
              "          -3.1529e-01,  1.0111e-02, -1.9183e-01,  3.5629e-02,  4.9628e-01,\n",
              "           3.2886e-01, -3.7014e-01, -5.7623e-01,  3.9986e-01,  8.2288e-01],\n",
              "         [-2.0155e-01, -2.6835e-01, -2.2951e-01, -7.0530e-01,  4.0091e-01,\n",
              "          -7.6244e-01,  2.0181e-01,  4.1988e-01,  2.2469e-01,  3.1187e-01,\n",
              "           5.2024e-01, -1.4106e-02, -2.9769e-01,  4.0656e-01,  4.2091e-01,\n",
              "          -3.1823e-01,  1.8532e-01,  2.0992e-01,  3.8994e-01, -1.9226e-01,\n",
              "          -4.8666e-01, -5.6377e-01,  9.6279e-02,  9.6856e-03, -3.2157e-01,\n",
              "           1.5436e-01,  8.9503e-02, -6.6000e-01, -1.2465e-01,  3.6784e-02,\n",
              "          -7.4464e-01, -6.6220e-01, -1.5677e-01,  3.1666e-01, -4.1540e-01,\n",
              "          -7.5683e-01,  1.9891e-02,  6.9520e-02,  5.2781e-01, -2.9616e-01,\n",
              "          -1.0098e-02, -8.5216e-02, -3.0329e-02,  3.8616e-01,  7.5152e-01,\n",
              "          -6.7616e-01,  6.6296e-01, -3.0895e-01, -7.6883e-02, -5.9698e-01,\n",
              "          -8.7513e-02,  5.3888e-01, -3.5027e-02,  9.5188e-02, -1.1734e+00,\n",
              "          -1.7761e-01,  1.7623e-01, -3.7775e-01, -4.0839e-01,  3.0471e-01,\n",
              "          -3.3408e-01,  4.0638e-01, -5.6745e-02,  2.3581e-01,  3.3049e-01,\n",
              "          -2.3921e-01,  4.4974e-01,  1.0874e-01,  1.1606e+00,  3.6309e-01,\n",
              "           6.5430e-01, -3.6731e-01, -3.8033e-01,  4.1322e-01,  4.1184e-01,\n",
              "          -3.8028e-01,  1.0257e+00,  2.5376e-01, -3.3805e-01,  2.6326e-01,\n",
              "           2.9916e-01,  1.7883e-01,  6.7226e-02,  7.7958e-02,  2.3025e-01,\n",
              "           6.3144e-01,  6.6269e-01,  1.5970e-01,  1.9896e-01, -5.1370e-01,\n",
              "          -8.4550e-01, -2.2106e-01,  2.3927e-01, -1.5402e-01, -1.7968e-01,\n",
              "          -5.5609e-01,  2.7208e-01, -5.2817e-01,  3.5999e-01,  9.4259e-01]]],\n",
              "       grad_fn=<UnsafeViewBackward0>)"
            ]
          },
          "metadata": {},
          "execution_count": 16
        }
      ],
      "source": [
        "num_hiddens, num_heads = 100, 5\n",
        "attention = MultiHeadAttention(num_hiddens, num_heads, 0.5)\n",
        "batch_size, num_queries, valid_lens = 2, 4, torch.tensor([3, 2])\n",
        "X = torch.ones((batch_size, num_queries, num_hiddens))\n",
        "check_shape(attention(X, X, X, valid_lens),\n",
        "                (batch_size, num_queries, num_hiddens))"
      ]
    },
    {
      "cell_type": "markdown",
      "id": "525745e4",
      "metadata": {
        "id": "525745e4"
      },
      "source": [
        "Positional Encoding"
      ]
    },
    {
      "cell_type": "code",
      "execution_count": 17,
      "id": "3eb1b5ef",
      "metadata": {
        "execution": {
          "iopub.execute_input": "2023-08-18T19:30:35.979909Z",
          "iopub.status.busy": "2023-08-18T19:30:35.978770Z",
          "iopub.status.idle": "2023-08-18T19:30:35.987465Z",
          "shell.execute_reply": "2023-08-18T19:30:35.986155Z"
        },
        "origin_pos": 16,
        "tab": [
          "pytorch"
        ],
        "id": "3eb1b5ef"
      },
      "outputs": [],
      "source": [
        "class PositionalEncoding(nn.Module):\n",
        "    \"\"\"Positional encoding.\"\"\"\n",
        "    def __init__(self, num_hiddens, dropout, max_len=1000):\n",
        "        super().__init__()\n",
        "        self.dropout = nn.Dropout(dropout)\n",
        "        self.P = torch.zeros((1, max_len, num_hiddens))\n",
        "        X = torch.arange(max_len, dtype=torch.float32).reshape(\n",
        "            -1, 1) / torch.pow(10000, torch.arange(\n",
        "            0, num_hiddens, 2, dtype=torch.float32) / num_hiddens)\n",
        "        self.P[:, :, 0::2] = torch.sin(X)\n",
        "        self.P[:, :, 1::2] = torch.cos(X)\n",
        "\n",
        "    def forward(self, X):\n",
        "        X = X + self.P[:, :X.shape[1], :].to(X.device)\n",
        "        return self.dropout(X)"
      ]
    },
    {
      "cell_type": "markdown",
      "source": [
        "Plot data points"
      ],
      "metadata": {
        "id": "nfGZjPCRNqHR"
      },
      "id": "nfGZjPCRNqHR"
    },
    {
      "cell_type": "code",
      "metadata": {
        "id": "7ef06e08"
      },
      "source": [
        "def plot(X, Y, xlabel=None, ylabel=None, legend=[], xlim=None,\n",
        "         ylim=None, xscale='linear', yscale='linear',\n",
        "         fmts=('-', 'm--', 'g-.', 'r:'), figsize=(3.5, 2.5), axes=None):\n",
        "    \"\"\"Plot data points.\"\"\"\n",
        "\n",
        "    if axes is None:\n",
        "        _, axes = plt.subplots(figsize=figsize)\n",
        "    axes.plot(X, Y.T, fmts)\n",
        "\n",
        "    axes.set_xlabel(xlabel)\n",
        "    axes.set_ylabel(ylabel)\n",
        "    axes.set_xscale(xscale)\n",
        "    axes.set_yscale(yscale)\n",
        "    axes.set_xlim(xlim)\n",
        "    axes.set_ylim(ylim)\n",
        "    if legend:\n",
        "        axes.legend(legend)\n",
        "    axes.grid()\n",
        "    plt.show()"
      ],
      "id": "7ef06e08",
      "execution_count": 21,
      "outputs": []
    },
    {
      "cell_type": "markdown",
      "id": "a0548d5d",
      "metadata": {
        "id": "a0548d5d"
      },
      "source": [
        "Rows correspond to positions within a sequence\n",
        "and columns represent different positional encoding dimensions"
      ]
    },
    {
      "cell_type": "code",
      "execution_count": 23,
      "id": "51320f4e",
      "metadata": {
        "execution": {
          "iopub.execute_input": "2023-08-18T19:30:35.991251Z",
          "iopub.status.busy": "2023-08-18T19:30:35.990632Z",
          "iopub.status.idle": "2023-08-18T19:30:36.368109Z",
          "shell.execute_reply": "2023-08-18T19:30:36.366973Z"
        },
        "origin_pos": 21,
        "tab": [
          "pytorch"
        ],
        "colab": {
          "base_uri": "https://localhost:8080/",
          "height": 272
        },
        "id": "51320f4e",
        "outputId": "74de2bc7-6957-4b3b-c5a1-e42ab8429f29"
      },
      "outputs": [
        {
          "output_type": "display_data",
          "data": {
            "text/plain": [
              "<Figure size 600x250 with 1 Axes>"
            ],
            "image/png": "[encoded data removed]"
          },
          "metadata": {}
        }
      ],
      "source": [
        "encoding_dim, num_steps = 32, 60\n",
        "pos_encoding = PositionalEncoding(encoding_dim, 0)\n",
        "X = pos_encoding(torch.zeros((1, num_steps, encoding_dim)))\n",
        "P = pos_encoding.P[:, :X.shape[1], :]\n",
        "plot(torch.arange(num_steps), P[0, :, 6:10].T, xlabel='Row (position)',\n",
        "         figsize=(6, 2.5), legend=[\"Col %d\" % d for d in torch.arange(6, 10)])"
      ]
    },
    {
      "cell_type": "markdown",
      "id": "12388348",
      "metadata": {
        "id": "12388348"
      },
      "source": [
        "The binary representations"
      ]
    },
    {
      "cell_type": "code",
      "execution_count": 19,
      "id": "6f42d89b",
      "metadata": {
        "execution": {
          "iopub.execute_input": "2023-08-18T19:30:36.373921Z",
          "iopub.status.busy": "2023-08-18T19:30:36.373258Z",
          "iopub.status.idle": "2023-08-18T19:30:36.380089Z",
          "shell.execute_reply": "2023-08-18T19:30:36.378862Z"
        },
        "origin_pos": 25,
        "tab": [
          "pytorch"
        ],
        "colab": {
          "base_uri": "https://localhost:8080/"
        },
        "id": "6f42d89b",
        "outputId": "295a4c4a-c240-47be-81f2-7cce6d1e1882"
      },
      "outputs": [
        {
          "output_type": "stream",
          "name": "stdout",
          "text": [
            "0 in binary is 000\n",
            "1 in binary is 001\n",
            "2 in binary is 010\n",
            "3 in binary is 011\n",
            "4 in binary is 100\n",
            "5 in binary is 101\n",
            "6 in binary is 110\n",
            "7 in binary is 111\n"
          ]
        }
      ],
      "source": [
        "for i in range(8):\n",
        "    print(f'{i} in binary is {i:>03b}')"
      ]
    },
    {
      "cell_type": "markdown",
      "id": "e137cf32",
      "metadata": {
        "id": "e137cf32"
      },
      "source": [
        "The positional encoding decreases\n",
        "frequencies along the encoding dimension"
      ]
    },
    {
      "cell_type": "code",
      "execution_count": 24,
      "id": "c5f60f9f",
      "metadata": {
        "execution": {
          "iopub.execute_input": "2023-08-18T19:30:36.384358Z",
          "iopub.status.busy": "2023-08-18T19:30:36.383531Z",
          "iopub.status.idle": "2023-08-18T19:30:36.858217Z",
          "shell.execute_reply": "2023-08-18T19:30:36.857049Z"
        },
        "origin_pos": 28,
        "tab": [
          "pytorch"
        ],
        "colab": {
          "base_uri": "https://localhost:8080/",
          "height": 393
        },
        "id": "c5f60f9f",
        "outputId": "a9d1ca91-b38f-4b90-bcb4-d601f1f19ea5"
      },
      "outputs": [
        {
          "output_type": "display_data",
          "data": {
            "text/plain": [
              "<Figure size 350x400 with 2 Axes>"
            ],
            "image/png": "[encoded data removed]"
          },
          "metadata": {}
        }
      ],
      "source": [
        "P = P[0, :, :].unsqueeze(0).unsqueeze(0)\n",
        "show_heatmaps(P, xlabel='Column (encoding dimension)',\n",
        "                  ylabel='Row (position)', figsize=(3.5, 4))"
      ]
    }
  ],
  "metadata": {
    "celltoolbar": "Slideshow",
    "language_info": {
      "name": "python"
    },
    "required_libs": [],
    "rise": {
      "autolaunch": true,
      "enable_chalkboard": true,
      "overlay": "<div class='my-top-right'><img height=80px src='http://d2l.ai/_static/logo-with-text.png'/></div><div class='my-top-left'></div>",
      "scroll": true
    },
    "colab": {
      "provenance": [],
      "gpuType": "T4",
      "include_colab_link": true
    },
    "kernelspec": {
      "name": "python3",
      "display_name": "Python 3"
    },
    "accelerator": "GPU"
  },
  "nbformat": 4,
  "nbformat_minor": 5
}