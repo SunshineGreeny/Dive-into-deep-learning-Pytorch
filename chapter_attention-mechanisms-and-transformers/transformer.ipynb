{
  "cells": [
    {
      "cell_type": "markdown",
      "metadata": {
        "id": "view-in-github",
        "colab_type": "text"
      },
      "source": [
        "<a href=\"https://colab.research.google.com/github/SunshineGreeny/Dive-into-deep-learning-Pytorch/blob/main/chapter_attention-mechanisms-and-transformers/transformer.ipynb\" target=\"_parent\"><img src=\"https://colab.research.google.com/assets/colab-badge.svg\" alt=\"Open In Colab\"/></a>"
      ]
    },
    {
      "cell_type": "markdown",
      "id": "e90392f7",
      "metadata": {
        "id": "e90392f7"
      },
      "source": [
        "# The Transformer Architecture\n",
        "\n"
      ]
    },
    {
      "cell_type": "code",
      "metadata": {
        "id": "3CekudkzO6gF"
      },
      "source": [
        "import math\n",
        "import pandas as pd\n",
        "import torch\n",
        "from torch import nn\n",
        "from torch.nn import functional as F\n",
        "import torch.optim as optim\n",
        "from torch.utils.data import Dataset,DataLoader\n",
        "from nltk.translate.bleu_score import sentence_bleu, SmoothingFunction\n",
        "import matplotlib.pyplot as plt\n",
        "\n",
        "def try_gpu(i=0):\n",
        "    \"\"\"返回可用的GPU，否则返回CPU\"\"\"\n",
        "    if torch.cuda.device_count() >= i+1:\n",
        "        return torch.device(f'cuda:{i}')\n",
        "    return torch.device('cpu')\n",
        "\n",
        "\n",
        "def bleu(preq_seq,label_seq,k=2):\n",
        "  return sentence_bleu([label_seq.split()],\n",
        "             preq_seq.split(),\n",
        "             smoothing_function=SmoothingFunction().method1,\n",
        "             weights=(1. / k,) * k)\n",
        "\n",
        "\n",
        "def check_shape(tensor, expected_shape):\n",
        "    assert tensor.shape == expected_shape, \\\n",
        "        f\"Expected shape: {expected_shape}, but got: {tensor.shape}\"\n",
        "    return tensor\n",
        "\n",
        "\n",
        "def show_heatmaps(matrices, xlabel, ylabel, titles=None, figsize=(3.5, 2.5),\n",
        "                  sharex=True,sharey=True,squeeze=False):\n",
        "    num_rows,num_cols=matrices.shape[0],matrices.shape[1]\n",
        "\n",
        "    # 创建子图网络\n",
        "    fig,axes=plt.subplots(num_rows,num_cols,figsize=figsize,\n",
        "                          sharex=True,sharey=True,squeeze=False)\n",
        "    # 遍历所有矩阵并绘制热力图\n",
        "    for i in range(num_rows):\n",
        "        for j in range(num_cols):\n",
        "            ax=axes[i,j]\n",
        "            # 将张量转换为numpy数组并分离计算图\n",
        "            matrix=matrices[i,j].detach().numpy()\n",
        "\n",
        "            # 使用热力图显示矩阵\n",
        "            pcm=ax.imshow(matrix,cmap='Reds')\n",
        "\n",
        "            # 设置坐标轴标签\n",
        "            if i==num_rows-1:#最后一行显示x轴标签\n",
        "                ax.set_xlabel(xlabel)\n",
        "            if j==0:#第一列显示y轴标签\n",
        "                ax.set_ylabel(ylabel)\n",
        "            if titles:\n",
        "                ax.set_title(titles[j])\n",
        "\n",
        "            # 隐藏刻度线\n",
        "            ax.xaxis.set_ticks_position('none')\n",
        "            ax.yaxis.set_ticks_position('none')\n",
        "\n",
        "    # Add a colorbar\n",
        "    fig.colorbar(pcm, ax=axes.ravel().tolist())\n",
        "    plt.show()\n",
        "\n",
        "\n",
        "def masked_softmax(X, valid_lens):\n",
        "    def _sequence_mask(X, valid_len, value=0):\n",
        "        maxlen = X.size(1)\n",
        "\n",
        "        # 创建掩码：对于每个位置，如果索引小于有效长度则为True，否则为False\n",
        "        mask = torch.arange((maxlen), dtype=torch.float32,\n",
        "                            device=X.device)[None, :] < valid_len[:, None]\n",
        "\n",
        "        # 将掩码为False的位置设置为指定的值\n",
        "        X[~mask] = value\n",
        "        return X\n",
        "\n",
        "    # 没有提供有效长度，直接返回标准sofemax\n",
        "    if valid_lens is None:\n",
        "        return nn.functional.softmax(X, dim=-1)\n",
        "    else:\n",
        "        shape = X.shape\n",
        "\n",
        "        # 处理不同维度的有效长度\n",
        "        if valid_lens.dim() == 1:\n",
        "            # 如果是一维,复制到每个位置\n",
        "            valid_lens = torch.repeat_interleave(valid_lens, shape[1])\n",
        "        else:\n",
        "            valid_lens = valid_lens.reshape(-1)\n",
        "\n",
        "        # 应用序列掩码,将无效位置设置为很小的值\n",
        "        X = _sequence_mask(X.reshape(-1, shape[-1]), valid_lens, value=-1e6)\n",
        "\n",
        "        # 应用softmax并恢复原始形状\n",
        "        return nn.functional.softmax(X.reshape(shape), dim=-1)\n",
        "\n",
        "\n",
        "class DotProductAttention(nn.Module):\n",
        "    def __init__(self, dropout):\n",
        "        super().__init__()\n",
        "        self.dropout = nn.Dropout(dropout)\n",
        "\n",
        "    def forward(self, queries, keys, values, valid_lens=None):\n",
        "        # 获取特征维度（用于缩放）\n",
        "        d = queries.shape[-1]\n",
        "\n",
        "        # 计算注意力分数：Q * K^T / √d\n",
        "        # bmm: 批量矩阵乘法\n",
        "        scores = torch.bmm(queries, keys.transpose(1, 2)) / math.sqrt(d)\n",
        "\n",
        "        # 应用带掩码的softmax得到注意力权重\n",
        "        self.attention_weights = masked_softmax(scores, valid_lens)\n",
        "\n",
        "        # 对注意力权重应用dropout，然后与值相乘得到最终输出\n",
        "        return torch.bmm(self.dropout(self.attention_weights), values)\n",
        "\n",
        "\n",
        "class MultiHeadAttention(nn.Module):\n",
        "    \"\"\"Multi-head attention.\"\"\"\n",
        "    def __init__(self, num_hiddens, num_heads, dropout, bias=False, **kwargs):\n",
        "        super().__init__()\n",
        "        self.num_heads = num_heads\n",
        "        self.attention = DotProductAttention(dropout)\n",
        "        self.W_q = nn.LazyLinear(num_hiddens, bias=bias)\n",
        "        self.W_k = nn.LazyLinear(num_hiddens, bias=bias)\n",
        "        self.W_v = nn.LazyLinear(num_hiddens, bias=bias)\n",
        "        self.W_o = nn.LazyLinear(num_hiddens, bias=bias)\n",
        "\n",
        "    def transpose_qkv(self, X):\n",
        "        \"\"\"Transposes the last two dimensions of a tensor.\"\"\"\n",
        "        X = X.reshape(X.shape[0], X.shape[1], self.num_heads, -1)\n",
        "        X = X.permute(0, 2, 1, 3)\n",
        "        return X.reshape(-1, X.shape[2], X.shape[3])\n",
        "\n",
        "    def transpose_output(self, X):\n",
        "        \"\"\"Reverse the operation of transpose_qkv.\"\"\"\n",
        "        X = X.reshape(-1, self.num_heads, X.shape[1], X.shape[2])\n",
        "        X = X.permute(0, 2, 1, 3)\n",
        "        return X.reshape(X.shape[0], X.shape[1], -1)\n",
        "\n",
        "\n",
        "    def forward(self, queries, keys, values, valid_lens):\n",
        "        queries = self.transpose_qkv(self.W_q(queries))\n",
        "        keys = self.transpose_qkv(self.W_k(keys))\n",
        "        values = self.transpose_qkv(self.W_v(values))\n",
        "\n",
        "        if valid_lens is not None:\n",
        "            valid_lens = torch.repeat_interleave(\n",
        "                valid_lens, repeats=self.num_heads, dim=0)\n",
        "\n",
        "        output = self.attention(queries, keys, values, valid_lens)\n",
        "        output_concat = self.transpose_output(output)\n",
        "        return self.W_o(output_concat)\n",
        "\n",
        "\n",
        "class MTFraEng(Dataset):\n",
        "    def __init__(self, src_sentences, tgt_sentences, src_vocab, tgt_vocab, max_len):\n",
        "        self.src_sentences = src_sentences\n",
        "        self.tgt_sentences = tgt_sentences\n",
        "        self.src_vocab = src_vocab\n",
        "        self.tgt_vocab = tgt_vocab\n",
        "        self.max_len = max_len\n",
        "\n",
        "    def __len__(self):\n",
        "        return len(self.src_sentences)\n",
        "\n",
        "    def __getitem__(self, idx):\n",
        "        src_sentence = self.src_sentences[idx]\n",
        "        tgt_sentence = self.tgt_sentences[idx]\n",
        "\n",
        "        src_tokens = ['<bos>'] + src_sentence.split() + ['<eos>']\n",
        "        tgt_tokens = ['<bos>'] + tgt_sentence.split() + ['<eos>']\n",
        "\n",
        "        src_indices = [self.src_vocab[token] for token in src_tokens if token in self.src_vocab]\n",
        "        tgt_indices = [self.tgt_vocab[token] for token in tgt_tokens if token in self.tgt_vocab]\n",
        "\n",
        "        # 填充或截断到固定长度\n",
        "        src_indices = self.pad_or_truncate(src_indices, self.max_len, self.src_vocab['<pad>'])\n",
        "        tgt_indices = self.pad_or_truncate(tgt_indices, self.max_len, self.tgt_vocab['<pad>'])\n",
        "\n",
        "        return torch.tensor(src_indices), torch.tensor(tgt_indices)\n",
        "\n",
        "    def pad_or_truncate(self, sequence, max_len, pad_token):\n",
        "        if len(sequence) < max_len:\n",
        "            return sequence + [pad_token] * (max_len - len(sequence))\n",
        "        else:\n",
        "            return sequence[:max_len]\n",
        "\n",
        "    def build_vocab(sentences, min_freq=2):\n",
        "        tokens = []\n",
        "        for sentence in sentences:\n",
        "            tokens.extend(sentence.split())\n",
        "\n",
        "        token_freq = {}\n",
        "        for token in tokens:\n",
        "            token_freq[token] = token_freq.get(token, 0) + 1\n",
        "\n",
        "        vocab = {'<pad>': 0, '<bos>': 1, '<eos>': 2}\n",
        "        for token, freq in token_freq.items():\n",
        "            if freq >= min_freq:\n",
        "                vocab[token] = len(vocab)\n",
        "\n",
        "        # Add get_itos method for demonstration\n",
        "        vocab['get_itos'] = lambda: {v: k for k, v in vocab.items()}\n",
        "\n",
        "        return vocab\n",
        "\n",
        "    def build(self, src_sentences, tgt_sentences):\n",
        "        \"\"\"Builds the dataset for prediction.\"\"\"\n",
        "        src_indices = []\n",
        "        tgt_indices = []\n",
        "        for src_sentence, tgt_sentence in zip(src_sentences, tgt_sentences):\n",
        "            src_tokens = ['<bos>'] + src_sentence.split() + ['<eos>']\n",
        "            tgt_tokens = ['<bos>'] + tgt_sentence.split() + ['<eos>']\n",
        "            src_indices.append([self.src_vocab[token] for token in src_tokens if token in self.src_vocab])\n",
        "            tgt_indices.append([self.tgt_vocab[token] for token in tgt_tokens if token in self.tgt_vocab])\n",
        "\n",
        "        # Pad or truncate to max_len\n",
        "        src_indices = [self.pad_or_truncate(indices, self.max_len, self.src_vocab['<pad>']) for indices in src_indices]\n",
        "        tgt_indices = [self.pad_or_truncate(indices, self.max_len, self.tgt_vocab['<pad>']) for indices in tgt_indices]\n",
        "\n",
        "        return torch.tensor(src_indices), torch.tensor(tgt_indices)\n",
        "\n",
        "\n",
        "class PositionalEncoding(nn.Module):\n",
        "    \"\"\"Positional encoding.\"\"\"\n",
        "    def __init__(self, num_hiddens, dropout, max_len=1000):\n",
        "        super().__init__()\n",
        "        self.dropout = nn.Dropout(dropout)\n",
        "        self.P = torch.zeros((1, max_len, num_hiddens))\n",
        "        X = torch.arange(max_len, dtype=torch.float32).reshape(\n",
        "            -1, 1) / torch.pow(10000, torch.arange(\n",
        "            0, num_hiddens, 2, dtype=torch.float32) / num_hiddens)\n",
        "        self.P[:, :, 0::2] = torch.sin(X)\n",
        "        self.P[:, :, 1::2] = torch.cos(X)\n",
        "\n",
        "    def forward(self, X):\n",
        "        X = X + self.P[:, :X.shape[1], :].to(X.device)\n",
        "        return self.dropout(X)\n",
        "\n",
        "\n",
        "def Trainer(model, train_loader, val_loader, num_epochs, lr, device):\n",
        "    model.to(device)\n",
        "    criterion = nn.CrossEntropyLoss(ignore_index=0)  # 忽略填充token\n",
        "    optimizer = optim.Adam(model.parameters(), lr=lr)\n",
        "\n",
        "    train_losses = []\n",
        "    val_losses = []\n",
        "\n",
        "    for epoch in range(num_epochs):\n",
        "        # 训练阶段\n",
        "        model.train()\n",
        "        total_train_loss = 0\n",
        "        for src, tgt in train_loader:\n",
        "            src, tgt = src.to(device), tgt.to(device)\n",
        "\n",
        "            optimizer.zero_grad()\n",
        "            enc_outputs = model.encoder(src, None)\n",
        "            state = model.decoder.init_state(enc_outputs, None)\n",
        "\n",
        "            # 解码器输入是目标序列去掉最后一个token\n",
        "            dec_input = tgt[:, :-1]\n",
        "            # 解码器输出应该预测目标序列去掉第一个token\n",
        "            dec_output, _ = model.decoder(dec_input, state)\n",
        "\n",
        "            loss = criterion(dec_output.reshape(-1, dec_output.shape[-1]), tgt[:, 1:].reshape(-1))\n",
        "            loss.backward()\n",
        "            optimizer.step()\n",
        "\n",
        "            total_train_loss += loss.item()\n",
        "\n",
        "        avg_train_loss = total_train_loss / len(train_loader)\n",
        "        train_losses.append(avg_train_loss)\n",
        "\n",
        "        # 验证阶段\n",
        "        model.eval()\n",
        "        total_val_loss = 0\n",
        "        with torch.no_grad():\n",
        "            for src, tgt in val_loader:\n",
        "                src, tgt = src.to(device), tgt.to(device)\n",
        "\n",
        "                enc_outputs = model.encoder(src, None)\n",
        "                state = model.decoder.init_state(enc_outputs, None)\n",
        "                dec_input = tgt[:, :-1]\n",
        "                dec_output, _ = model.decoder(dec_input, state)\n",
        "\n",
        "                loss = criterion(dec_output.reshape(-1, dec_output.shape[-1]), tgt[:, 1:].reshape(-1))\n",
        "                total_val_loss += loss.item()\n",
        "\n",
        "        avg_val_loss = total_val_loss / len(val_loader)\n",
        "        val_losses.append(avg_val_loss)\n",
        "\n",
        "        print(f'Epoch [{epoch+1}/{num_epochs}], Train Loss: {avg_train_loss:.4f}, Val Loss: {avg_val_loss:.4f}')\n",
        "\n",
        "    # 绘制损失曲线\n",
        "    plt.figure(figsize=(10, 5))\n",
        "    plt.plot(range(1, num_epochs+1), train_losses, label='Train Loss')\n",
        "    plt.plot(range(1, num_epochs+1), val_losses, label='Val Loss')\n",
        "    plt.xlabel('Epoch')\n",
        "    plt.ylabel('Loss')\n",
        "    plt.legend()\n",
        "    plt.title('Training and Validation Loss')\n",
        "    plt.show()\n",
        "\n",
        "\n",
        "class Seq2Seq(nn.Module):\n",
        "    def __init__(self, encoder, decoder, tgt_vocab):\n",
        "        super().__init__()\n",
        "        self.encoder = encoder\n",
        "        self.decoder = decoder\n",
        "        self.tgt_vocab = tgt_vocab\n",
        "\n",
        "    def forward(self, src, tgt):\n",
        "        enc_outputs = self.encoder(src, None)\n",
        "        dec_state = self.decoder.init_state(enc_outputs, None)\n",
        "        dec_input = tgt[:, :-1]\n",
        "        logits, _ = self.decoder(dec_input, dec_state)\n",
        "        return logits\n",
        "\n",
        "    def predict_step(self, src_seqs, device, max_len, save_attention_weights=False):\n",
        "        \"\"\"Predict the output sequence.\"\"\"\n",
        "        self.eval()\n",
        "        batch_size = len(src_seqs)\n",
        "        enc_outputs = self.encoder(src_seqs.to(device), None)\n",
        "        dec_state = self.decoder.init_state(enc_outputs, None)\n",
        "        # Start with the <bos> token\n",
        "        dec_X = torch.tensor([self.tgt_vocab['<bos>']] * batch_size,\n",
        "                             device=device).unsqueeze(1)\n",
        "        preds = []\n",
        "        attention_weights = []\n",
        "        for _ in range(max_len):\n",
        "            Y, dec_state = self.decoder(dec_X, dec_state)\n",
        "            # Use the token with the highest predicted probability as the next\n",
        "            # input to the decoder\n",
        "            dec_X = Y.argmax(dim=2)\n",
        "            preds.extend(dec_X.squeeze(1).tolist())\n",
        "            # Save attention weights (optional)\n",
        "            if save_attention_weights:\n",
        "                attention_weights.append(self.decoder.attention_weights)\n",
        "        return torch.tensor(preds).reshape(batch_size, -1), attention_weights"
      ],
      "id": "3CekudkzO6gF",
      "execution_count": 84,
      "outputs": []
    },
    {
      "cell_type": "code",
      "metadata": {
        "colab": {
          "base_uri": "https://localhost:8080/"
        },
        "id": "0e5dfca7",
        "outputId": "f47bebc0-4caa-4111-8296-88e76e9dd213"
      },
      "source": [
        "engs = ['go .', 'i lost .', 'he\\'s calm .', 'i\\'m home .']\n",
        "fras = ['va !', 'j\\'ai perdu .', 'il est calme .', 'je suis chez moi .']\n",
        "preds, _ = model.predict_step(\n",
        "    train_dataset.build(engs, fras)[0], try_gpu(), train_dataset.max_len)\n",
        "for en, fr, p in zip(engs, fras, preds):\n",
        "    translation = []\n",
        "    # Get the index-to-token mapping from tgt_vocab\n",
        "    itos = train_dataset.tgt_vocab.get('get_itos')()\n",
        "    for idx in p:\n",
        "        token = itos.get(idx.item(), '<unk>') # Handle unknown tokens\n",
        "        if token == '<eos>':\n",
        "            break\n",
        "        translation.append(token)\n",
        "    print(f'{en} => {\" \".join(translation)}, bleu: {bleu(\" \".join(translation), fr, k=2):.3f}')"
      ],
      "id": "0e5dfca7",
      "execution_count": 86,
      "outputs": [
        {
          "output_type": "stream",
          "name": "stdout",
          "text": [
            "go . => phrase phrase phrase phrase, bleu: 0.000\n",
            "i lost . => phrase phrase, bleu: 0.000\n",
            "he's calm . => , bleu: 0.000\n",
            "i'm home . => , bleu: 0.000\n"
          ]
        }
      ]
    },
    {
      "cell_type": "markdown",
      "id": "533fdb62",
      "metadata": {
        "id": "533fdb62"
      },
      "source": [
        "Positionwise Feed-Forward Networks"
      ]
    },
    {
      "cell_type": "code",
      "execution_count": 87,
      "id": "623f67ee",
      "metadata": {
        "execution": {
          "iopub.execute_input": "2023-08-18T19:50:09.894092Z",
          "iopub.status.busy": "2023-08-18T19:50:09.893416Z",
          "iopub.status.idle": "2023-08-18T19:50:09.899737Z",
          "shell.execute_reply": "2023-08-18T19:50:09.898347Z"
        },
        "origin_pos": 8,
        "tab": [
          "pytorch"
        ],
        "id": "623f67ee"
      },
      "outputs": [],
      "source": [
        "class PositionWiseFFN(nn.Module):\n",
        "    \"\"\"The positionwise feed-forward network.\"\"\"\n",
        "    def __init__(self, ffn_num_hiddens, ffn_num_outputs):\n",
        "        super().__init__()\n",
        "        self.dense1 = nn.LazyLinear(ffn_num_hiddens)\n",
        "        self.relu = nn.ReLU()\n",
        "        self.dense2 = nn.LazyLinear(ffn_num_outputs)\n",
        "\n",
        "    def forward(self, X):\n",
        "        return self.dense2(self.relu(self.dense1(X)))"
      ]
    },
    {
      "cell_type": "markdown",
      "id": "a4b75c73",
      "metadata": {
        "id": "a4b75c73"
      },
      "source": [
        "The innermost dimension\n",
        "of a tensor changes"
      ]
    },
    {
      "cell_type": "code",
      "execution_count": 88,
      "id": "c462f39f",
      "metadata": {
        "execution": {
          "iopub.execute_input": "2023-08-18T19:50:09.906345Z",
          "iopub.status.busy": "2023-08-18T19:50:09.905327Z",
          "iopub.status.idle": "2023-08-18T19:50:09.920436Z",
          "shell.execute_reply": "2023-08-18T19:50:09.919542Z"
        },
        "origin_pos": 13,
        "tab": [
          "pytorch"
        ],
        "colab": {
          "base_uri": "https://localhost:8080/"
        },
        "id": "c462f39f",
        "outputId": "b46de010-8e74-45cf-97e8-215d05d4e955"
      },
      "outputs": [
        {
          "output_type": "execute_result",
          "data": {
            "text/plain": [
              "tensor([[ 0.0465,  0.0788,  0.3235,  0.4165,  0.0498,  0.4642,  0.1853, -0.7265],\n",
              "        [ 0.0465,  0.0788,  0.3235,  0.4165,  0.0498,  0.4642,  0.1853, -0.7265],\n",
              "        [ 0.0465,  0.0788,  0.3235,  0.4165,  0.0498,  0.4642,  0.1853, -0.7265]],\n",
              "       grad_fn=<SelectBackward0>)"
            ]
          },
          "metadata": {},
          "execution_count": 88
        }
      ],
      "source": [
        "ffn = PositionWiseFFN(4, 8)\n",
        "ffn.eval()\n",
        "ffn(torch.ones((2, 3, 4)))[0]"
      ]
    },
    {
      "cell_type": "markdown",
      "id": "07085efa",
      "metadata": {
        "id": "07085efa"
      },
      "source": [
        "Compares the normalization across different dimensions\n",
        "by layer normalization and batch normalization"
      ]
    },
    {
      "cell_type": "code",
      "execution_count": 89,
      "id": "81c95717",
      "metadata": {
        "execution": {
          "iopub.execute_input": "2023-08-18T19:50:09.926398Z",
          "iopub.status.busy": "2023-08-18T19:50:09.924518Z",
          "iopub.status.idle": "2023-08-18T19:50:09.937855Z",
          "shell.execute_reply": "2023-08-18T19:50:09.936657Z"
        },
        "origin_pos": 18,
        "tab": [
          "pytorch"
        ],
        "colab": {
          "base_uri": "https://localhost:8080/"
        },
        "id": "81c95717",
        "outputId": "44919312-012e-4978-9bbe-31d3312e337a"
      },
      "outputs": [
        {
          "output_type": "stream",
          "name": "stdout",
          "text": [
            "layer norm: tensor([[-1.0000,  1.0000],\n",
            "        [-1.0000,  1.0000]], grad_fn=<NativeLayerNormBackward0>) \n",
            "batch norm: tensor([[-1.0000, -1.0000],\n",
            "        [ 1.0000,  1.0000]], grad_fn=<NativeBatchNormBackward0>)\n"
          ]
        }
      ],
      "source": [
        "ln = nn.LayerNorm(2)\n",
        "bn = nn.LazyBatchNorm1d()\n",
        "X = torch.tensor([[1, 2], [2, 3]], dtype=torch.float32)\n",
        "print('layer norm:', ln(X), '\\nbatch norm:', bn(X))"
      ]
    },
    {
      "cell_type": "markdown",
      "id": "4308349f",
      "metadata": {
        "id": "4308349f"
      },
      "source": [
        "Using a residual connection followed by layer normalization"
      ]
    },
    {
      "cell_type": "code",
      "execution_count": 90,
      "id": "331f12e2",
      "metadata": {
        "execution": {
          "iopub.execute_input": "2023-08-18T19:50:09.941811Z",
          "iopub.status.busy": "2023-08-18T19:50:09.941163Z",
          "iopub.status.idle": "2023-08-18T19:50:09.948019Z",
          "shell.execute_reply": "2023-08-18T19:50:09.946884Z"
        },
        "origin_pos": 23,
        "tab": [
          "pytorch"
        ],
        "id": "331f12e2"
      },
      "outputs": [],
      "source": [
        "class AddNorm(nn.Module):\n",
        "    \"\"\"The residual connection followed by layer normalization.\"\"\"\n",
        "    def __init__(self, norm_shape, dropout):\n",
        "        super().__init__()\n",
        "        self.dropout = nn.Dropout(dropout)\n",
        "        self.ln = nn.LayerNorm(norm_shape)\n",
        "\n",
        "    def forward(self, X, Y):\n",
        "        return self.ln(self.dropout(Y) + X)"
      ]
    },
    {
      "cell_type": "markdown",
      "id": "f4b454c0",
      "metadata": {
        "id": "f4b454c0"
      },
      "source": [
        "The output tensor also has the same shape after the addition operation"
      ]
    },
    {
      "cell_type": "code",
      "execution_count": 91,
      "id": "d3835d18",
      "metadata": {
        "execution": {
          "iopub.execute_input": "2023-08-18T19:50:09.951769Z",
          "iopub.status.busy": "2023-08-18T19:50:09.951126Z",
          "iopub.status.idle": "2023-08-18T19:50:09.957096Z",
          "shell.execute_reply": "2023-08-18T19:50:09.956115Z"
        },
        "origin_pos": 28,
        "tab": [
          "pytorch"
        ],
        "colab": {
          "base_uri": "https://localhost:8080/"
        },
        "id": "d3835d18",
        "outputId": "a55d15b2-f28c-478e-8ac4-592cb1b8bb92"
      },
      "outputs": [
        {
          "output_type": "execute_result",
          "data": {
            "text/plain": [
              "tensor([[[ 1.0000, -1.0000,  1.0000, -1.0000],\n",
              "         [-0.5773, -0.5773,  1.7320, -0.5773],\n",
              "         [-1.7320,  0.5773,  0.5773,  0.5773]],\n",
              "\n",
              "        [[-0.5773, -0.5773, -0.5773,  1.7320],\n",
              "         [ 0.0000,  0.0000,  0.0000,  0.0000],\n",
              "         [-0.5773,  1.7320, -0.5773, -0.5773]]],\n",
              "       grad_fn=<NativeLayerNormBackward0>)"
            ]
          },
          "metadata": {},
          "execution_count": 91
        }
      ],
      "source": [
        "add_norm = AddNorm(4, 0.5)\n",
        "shape = (2, 3, 4)\n",
        "check_shape(add_norm(torch.ones(shape), torch.ones(shape)), shape)"
      ]
    },
    {
      "cell_type": "markdown",
      "id": "39166416",
      "metadata": {
        "id": "39166416"
      },
      "source": [
        "A single layer within the encoder"
      ]
    },
    {
      "cell_type": "code",
      "execution_count": 92,
      "id": "2c7cce60",
      "metadata": {
        "execution": {
          "iopub.execute_input": "2023-08-18T19:50:09.960576Z",
          "iopub.status.busy": "2023-08-18T19:50:09.960031Z",
          "iopub.status.idle": "2023-08-18T19:50:09.965982Z",
          "shell.execute_reply": "2023-08-18T19:50:09.965069Z"
        },
        "origin_pos": 33,
        "tab": [
          "pytorch"
        ],
        "id": "2c7cce60"
      },
      "outputs": [],
      "source": [
        "class TransformerEncoderBlock(nn.Module):\n",
        "    \"\"\"The Transformer encoder block.\"\"\"\n",
        "    def __init__(self, num_hiddens, ffn_num_hiddens, num_heads, dropout,\n",
        "                 use_bias=False):\n",
        "        super().__init__()\n",
        "        self.attention = MultiHeadAttention(num_hiddens, num_heads,\n",
        "                                                dropout, use_bias)\n",
        "        self.addnorm1 = AddNorm(num_hiddens, dropout)\n",
        "        self.ffn = PositionWiseFFN(ffn_num_hiddens, num_hiddens)\n",
        "        self.addnorm2 = AddNorm(num_hiddens, dropout)\n",
        "\n",
        "    def forward(self, X, valid_lens):\n",
        "        Y = self.addnorm1(X, self.attention(X, X, X, valid_lens))\n",
        "        return self.addnorm2(Y, self.ffn(Y))"
      ]
    },
    {
      "cell_type": "markdown",
      "id": "0e688bde",
      "metadata": {
        "id": "0e688bde"
      },
      "source": [
        "No layer in the Transformer encoder\n",
        "changes the shape of its input"
      ]
    },
    {
      "cell_type": "code",
      "execution_count": 93,
      "id": "9aefd8d7",
      "metadata": {
        "execution": {
          "iopub.execute_input": "2023-08-18T19:50:09.969308Z",
          "iopub.status.busy": "2023-08-18T19:50:09.968775Z",
          "iopub.status.idle": "2023-08-18T19:50:09.982374Z",
          "shell.execute_reply": "2023-08-18T19:50:09.981506Z"
        },
        "origin_pos": 38,
        "tab": [
          "pytorch"
        ],
        "colab": {
          "base_uri": "https://localhost:8080/"
        },
        "id": "9aefd8d7",
        "outputId": "d13b17a8-bc36-450e-fc67-4aa9f6292cbd"
      },
      "outputs": [
        {
          "output_type": "execute_result",
          "data": {
            "text/plain": [
              "tensor([[[-1.2984, -0.1359,  0.3096,  ...,  0.5380, -0.7653, -2.2785],\n",
              "         [-1.2984, -0.1359,  0.3096,  ...,  0.5380, -0.7653, -2.2785],\n",
              "         [-1.2984, -0.1359,  0.3096,  ...,  0.5380, -0.7653, -2.2785],\n",
              "         ...,\n",
              "         [-1.2984, -0.1359,  0.3096,  ...,  0.5380, -0.7653, -2.2785],\n",
              "         [-1.2984, -0.1359,  0.3096,  ...,  0.5380, -0.7653, -2.2785],\n",
              "         [-1.2984, -0.1359,  0.3096,  ...,  0.5380, -0.7653, -2.2785]],\n",
              "\n",
              "        [[-1.2984, -0.1359,  0.3096,  ...,  0.5380, -0.7653, -2.2785],\n",
              "         [-1.2984, -0.1359,  0.3096,  ...,  0.5380, -0.7653, -2.2785],\n",
              "         [-1.2984, -0.1359,  0.3096,  ...,  0.5380, -0.7653, -2.2785],\n",
              "         ...,\n",
              "         [-1.2984, -0.1359,  0.3096,  ...,  0.5380, -0.7653, -2.2785],\n",
              "         [-1.2984, -0.1359,  0.3096,  ...,  0.5380, -0.7653, -2.2785],\n",
              "         [-1.2984, -0.1359,  0.3096,  ...,  0.5380, -0.7653, -2.2785]]],\n",
              "       grad_fn=<NativeLayerNormBackward0>)"
            ]
          },
          "metadata": {},
          "execution_count": 93
        }
      ],
      "source": [
        "X = torch.ones((2, 100, 24))\n",
        "valid_lens = torch.tensor([3, 2])\n",
        "encoder_blk = TransformerEncoderBlock(24, 48, 8, 0.5)\n",
        "encoder_blk.eval()\n",
        "check_shape(encoder_blk(X, valid_lens), X.shape)"
      ]
    },
    {
      "cell_type": "markdown",
      "id": "691630cf",
      "metadata": {
        "id": "691630cf"
      },
      "source": [
        "Transformer encoder"
      ]
    },
    {
      "cell_type": "code",
      "execution_count": 94,
      "id": "bdcabb11",
      "metadata": {
        "execution": {
          "iopub.execute_input": "2023-08-18T19:50:09.986032Z",
          "iopub.status.busy": "2023-08-18T19:50:09.985758Z",
          "iopub.status.idle": "2023-08-18T19:50:09.993370Z",
          "shell.execute_reply": "2023-08-18T19:50:09.992550Z"
        },
        "origin_pos": 43,
        "tab": [
          "pytorch"
        ],
        "id": "bdcabb11"
      },
      "outputs": [],
      "source": [
        "class Encoder(nn.Module):\n",
        "    def __init__(self):\n",
        "        super().__init__()\n",
        "\n",
        "    def forward(self, X, state):\n",
        "        raise NotImplementedError\n",
        "\n",
        "class TransformerEncoder(Encoder):\n",
        "    \"\"\"The Transformer encoder.\"\"\"\n",
        "    def __init__(self, vocab_size, num_hiddens, ffn_num_hiddens,\n",
        "                 num_heads, num_blks, dropout, use_bias=False):\n",
        "        super().__init__()\n",
        "        self.num_hiddens = num_hiddens\n",
        "        self.embedding = nn.Embedding(vocab_size, num_hiddens)\n",
        "        self.pos_encoding = PositionalEncoding(num_hiddens, dropout)\n",
        "        self.blks = nn.Sequential()\n",
        "        for i in range(num_blks):\n",
        "            self.blks.add_module(\"block\"+str(i), TransformerEncoderBlock(\n",
        "                num_hiddens, ffn_num_hiddens, num_heads, dropout, use_bias))\n",
        "\n",
        "    def forward(self, X, valid_lens):\n",
        "        X = self.pos_encoding(self.embedding(X) * math.sqrt(self.num_hiddens))\n",
        "        self.attention_weights = [None] * len(self.blks)\n",
        "        for i, blk in enumerate(self.blks):\n",
        "            X = blk(X, valid_lens)\n",
        "            self.attention_weights[\n",
        "                i] = blk.attention.attention.attention_weights\n",
        "        return X"
      ]
    },
    {
      "cell_type": "markdown",
      "id": "424c1cc5",
      "metadata": {
        "id": "424c1cc5"
      },
      "source": [
        "Create a two-layer Transformer encoder"
      ]
    },
    {
      "cell_type": "code",
      "execution_count": 95,
      "id": "e09106b4",
      "metadata": {
        "execution": {
          "iopub.execute_input": "2023-08-18T19:50:09.996457Z",
          "iopub.status.busy": "2023-08-18T19:50:09.996186Z",
          "iopub.status.idle": "2023-08-18T19:50:10.014181Z",
          "shell.execute_reply": "2023-08-18T19:50:10.013041Z"
        },
        "origin_pos": 48,
        "tab": [
          "pytorch"
        ],
        "colab": {
          "base_uri": "https://localhost:8080/"
        },
        "id": "e09106b4",
        "outputId": "20c122ae-1f21-46a5-82f0-b1e59898d492"
      },
      "outputs": [
        {
          "output_type": "execute_result",
          "data": {
            "text/plain": [
              "tensor([[[ 1.6328, -0.2081, -0.3183,  ...,  0.7240,  0.7417, -0.7519],\n",
              "         [ 2.1505, -1.1120, -1.0962,  ...,  0.4878, -0.7146,  1.7423],\n",
              "         [ 0.6959, -2.7280, -0.9335,  ...,  1.8036,  0.8220,  0.0223],\n",
              "         ...,\n",
              "         [ 0.3222, -2.6411,  0.8195,  ..., -0.0887,  0.1686, -0.1338],\n",
              "         [ 0.0075, -1.6291, -1.2814,  ...,  1.3070, -0.6245,  0.2580],\n",
              "         [ 0.7588, -1.5963, -0.6898,  ...,  0.3817, -0.1676, -0.3626]],\n",
              "\n",
              "        [[-0.7526, -2.3025, -0.4650,  ...,  1.3041,  0.3129,  0.2736],\n",
              "         [-0.0354, -2.9566, -1.1695,  ...,  1.2462,  0.1550,  0.1720],\n",
              "         [ 0.9399, -1.4026, -0.7288,  ...,  0.2909, -1.6188, -0.9122],\n",
              "         ...,\n",
              "         [ 1.2546, -1.8168, -2.5204,  ...,  0.8915, -0.7470, -0.6593],\n",
              "         [ 0.4081, -0.8309, -0.7258,  ...,  0.8154, -0.5159,  2.2473],\n",
              "         [-0.2156, -1.9926, -0.3780,  ...,  0.8413, -1.2228,  0.5877]]],\n",
              "       grad_fn=<NativeLayerNormBackward0>)"
            ]
          },
          "metadata": {},
          "execution_count": 95
        }
      ],
      "source": [
        "encoder = TransformerEncoder(200, 24, 48, 8, 2, 0.5)\n",
        "check_shape(encoder(torch.ones((2, 100), dtype=torch.long), valid_lens),\n",
        "                (2, 100, 24))"
      ]
    },
    {
      "cell_type": "markdown",
      "id": "953a02ea",
      "metadata": {
        "id": "953a02ea"
      },
      "source": [
        "The Transformer decoder\n",
        "is composed of multiple identical layers"
      ]
    },
    {
      "cell_type": "code",
      "execution_count": 96,
      "id": "23664727",
      "metadata": {
        "execution": {
          "iopub.execute_input": "2023-08-18T19:50:10.017719Z",
          "iopub.status.busy": "2023-08-18T19:50:10.017425Z",
          "iopub.status.idle": "2023-08-18T19:50:10.027060Z",
          "shell.execute_reply": "2023-08-18T19:50:10.026020Z"
        },
        "origin_pos": 53,
        "tab": [
          "pytorch"
        ],
        "id": "23664727"
      },
      "outputs": [],
      "source": [
        "class TransformerDecoderBlock(nn.Module):\n",
        "    def __init__(self, num_hiddens, ffn_num_hiddens, num_heads, dropout, i):\n",
        "        super().__init__()\n",
        "        self.i = i\n",
        "        self.attention1 = MultiHeadAttention(num_hiddens, num_heads,\n",
        "                                                 dropout)\n",
        "        self.addnorm1 = AddNorm(num_hiddens, dropout)\n",
        "        self.attention2 = MultiHeadAttention(num_hiddens, num_heads,\n",
        "                                                 dropout)\n",
        "        self.addnorm2 = AddNorm(num_hiddens, dropout)\n",
        "        self.ffn = PositionWiseFFN(ffn_num_hiddens, num_hiddens)\n",
        "        self.addnorm3 = AddNorm(num_hiddens, dropout)\n",
        "\n",
        "    def forward(self, X, state):\n",
        "        enc_outputs, enc_valid_lens = state[0], state[1]\n",
        "        if state[2][self.i] is None:\n",
        "            key_values = X\n",
        "        else:\n",
        "            key_values = torch.cat((state[2][self.i], X), dim=1)\n",
        "        state[2][self.i] = key_values\n",
        "        if self.training:\n",
        "            batch_size, num_steps, _ = X.shape\n",
        "            dec_valid_lens = torch.arange(\n",
        "                1, num_steps + 1, device=X.device).repeat(batch_size, 1)\n",
        "        else:\n",
        "            dec_valid_lens = None\n",
        "        X2 = self.attention1(X, key_values, key_values, dec_valid_lens)\n",
        "        Y = self.addnorm1(X, X2)\n",
        "        Y2 = self.attention2(Y, enc_outputs, enc_outputs, enc_valid_lens)\n",
        "        Z = self.addnorm2(Y, Y2)\n",
        "        return self.addnorm3(Z, self.ffn(Z)), state"
      ]
    },
    {
      "cell_type": "markdown",
      "id": "f1025f42",
      "metadata": {
        "id": "f1025f42"
      },
      "source": [
        "The feature dimension (`num_hiddens`) of the decoder is\n",
        "the same as that of the encoder"
      ]
    },
    {
      "cell_type": "code",
      "execution_count": 97,
      "id": "1f487464",
      "metadata": {
        "execution": {
          "iopub.execute_input": "2023-08-18T19:50:10.030357Z",
          "iopub.status.busy": "2023-08-18T19:50:10.030070Z",
          "iopub.status.idle": "2023-08-18T19:50:10.048172Z",
          "shell.execute_reply": "2023-08-18T19:50:10.046972Z"
        },
        "origin_pos": 58,
        "tab": [
          "pytorch"
        ],
        "colab": {
          "base_uri": "https://localhost:8080/"
        },
        "id": "1f487464",
        "outputId": "de03c021-ea76-4b4e-ec3f-0348eab45fa8"
      },
      "outputs": [
        {
          "output_type": "execute_result",
          "data": {
            "text/plain": [
              "tensor([[[ 0.7944, -0.0115, -1.3728,  ...,  2.7082, -0.0115, -0.0115],\n",
              "         [ 0.0973, -0.9764,  0.2271,  ...,  0.9557, -0.6859,  0.3234],\n",
              "         [ 0.6463,  0.7715,  0.3443,  ...,  0.9696, -1.3846,  0.4463],\n",
              "         ...,\n",
              "         [ 1.1936,  0.1253,  0.9504,  ...,  0.2600, -1.0014, -0.1411],\n",
              "         [-0.3928, -0.5539,  0.8695,  ...,  1.8133, -1.3378,  0.6781],\n",
              "         [ 0.0769, -1.4487,  0.6110,  ..., -0.0482,  0.4381,  0.4799]],\n",
              "\n",
              "        [[-0.8750,  0.2938,  0.6980,  ...,  1.7486, -1.7476, -0.4366],\n",
              "         [-0.4498, -0.1895, -0.1149,  ...,  1.6065, -2.2317,  0.1432],\n",
              "         [ 0.2064, -0.0987,  0.2126,  ..., -1.2603, -1.6655,  0.4486],\n",
              "         ...,\n",
              "         [ 1.5198,  0.0764,  0.2350,  ...,  1.6023, -1.2868, -0.2341],\n",
              "         [ 1.0288, -1.5092,  0.1551,  ...,  2.5236, -0.5689,  0.5736],\n",
              "         [-0.0675, -1.1564,  0.3698,  ...,  1.9828, -0.7424,  0.7560]]],\n",
              "       grad_fn=<NativeLayerNormBackward0>)"
            ]
          },
          "metadata": {},
          "execution_count": 97
        }
      ],
      "source": [
        "decoder_blk = TransformerDecoderBlock(24, 48, 8, 0.5, 0)\n",
        "X = torch.ones((2, 100, 24))\n",
        "state = [encoder_blk(X, valid_lens), valid_lens, [None]]\n",
        "check_shape(decoder_blk(X, state)[0], X.shape)"
      ]
    },
    {
      "cell_type": "code",
      "metadata": {
        "colab": {
          "base_uri": "https://localhost:8080/"
        },
        "id": "73cce9b1",
        "outputId": "eddecc28-2b6d-42c5-8bab-0a6efa891c84"
      },
      "source": [
        "X = torch.ones((2, 100, 24))\n",
        "valid_lens = torch.tensor([3, 2])\n",
        "encoder_blk = TransformerEncoderBlock(24, 48, 8, 0.5)\n",
        "encoder_blk.eval()\n",
        "check_shape(encoder_blk(X, valid_lens), X.shape)"
      ],
      "id": "73cce9b1",
      "execution_count": 98,
      "outputs": [
        {
          "output_type": "execute_result",
          "data": {
            "text/plain": [
              "tensor([[[-0.8539, -1.9368,  0.2662,  ..., -0.5859, -0.8179, -1.3145],\n",
              "         [-0.8539, -1.9368,  0.2662,  ..., -0.5859, -0.8179, -1.3145],\n",
              "         [-0.8539, -1.9368,  0.2662,  ..., -0.5859, -0.8179, -1.3145],\n",
              "         ...,\n",
              "         [-0.8539, -1.9368,  0.2662,  ..., -0.5859, -0.8179, -1.3145],\n",
              "         [-0.8539, -1.9368,  0.2662,  ..., -0.5859, -0.8179, -1.3145],\n",
              "         [-0.8539, -1.9368,  0.2662,  ..., -0.5859, -0.8179, -1.3145]],\n",
              "\n",
              "        [[-0.8539, -1.9368,  0.2662,  ..., -0.5859, -0.8179, -1.3145],\n",
              "         [-0.8539, -1.9368,  0.2662,  ..., -0.5859, -0.8179, -1.3145],\n",
              "         [-0.8539, -1.9368,  0.2662,  ..., -0.5859, -0.8179, -1.3145],\n",
              "         ...,\n",
              "         [-0.8539, -1.9368,  0.2662,  ..., -0.5859, -0.8179, -1.3145],\n",
              "         [-0.8539, -1.9368,  0.2662,  ..., -0.5859, -0.8179, -1.3145],\n",
              "         [-0.8539, -1.9368,  0.2662,  ..., -0.5859, -0.8179, -1.3145]]],\n",
              "       grad_fn=<NativeLayerNormBackward0>)"
            ]
          },
          "metadata": {},
          "execution_count": 98
        }
      ]
    },
    {
      "cell_type": "code",
      "metadata": {
        "colab": {
          "base_uri": "https://localhost:8080/"
        },
        "id": "d427494b",
        "outputId": "65869a41-23a2-49b3-aeaf-d288eca788c1"
      },
      "source": [
        "encoder = TransformerEncoder(200, 24, 48, 8, 2, 0.5)\n",
        "check_shape(encoder(torch.ones((2, 100), dtype=torch.long), valid_lens),\n",
        "                (2, 100, 24))"
      ],
      "id": "d427494b",
      "execution_count": 99,
      "outputs": [
        {
          "output_type": "execute_result",
          "data": {
            "text/plain": [
              "tensor([[[-0.6597,  0.6768, -0.4830,  ..., -1.3499, -1.8011,  1.1326],\n",
              "         [-0.2913,  1.5606, -0.2407,  ..., -0.0097,  0.1698,  0.9187],\n",
              "         [-0.1141,  0.1341, -0.8392,  ..., -1.1081,  1.0573, -1.1886],\n",
              "         ...,\n",
              "         [-1.4992,  0.2245, -0.0517,  ..., -1.3164,  1.3622,  1.4649],\n",
              "         [-1.1621, -0.3345,  1.7225,  ...,  0.1610, -0.1385, -0.1016],\n",
              "         [ 0.5682,  0.2036,  1.0085,  ..., -1.1760, -0.8672, -0.4858]],\n",
              "\n",
              "        [[-0.6270, -0.2028, -0.1038,  ...,  0.4740,  0.5518,  1.5729],\n",
              "         [ 1.9980,  0.4119, -1.0642,  ..., -0.3191, -1.1076, -1.1698],\n",
              "         [-0.3395, -0.3767, -0.2338,  ...,  0.0253, -0.9592,  0.5705],\n",
              "         ...,\n",
              "         [-0.2362,  0.1250,  0.4368,  ..., -0.5752, -0.1266,  2.1188],\n",
              "         [ 0.3958,  0.1727,  0.6845,  ...,  1.1659, -0.4557,  0.4904],\n",
              "         [ 0.2543,  0.9093, -0.5758,  ..., -0.3291,  0.4705,  0.8205]]],\n",
              "       grad_fn=<NativeLayerNormBackward0>)"
            ]
          },
          "metadata": {},
          "execution_count": 99
        }
      ]
    },
    {
      "cell_type": "code",
      "metadata": {
        "colab": {
          "base_uri": "https://localhost:8080/"
        },
        "id": "1d94b8c4",
        "outputId": "75c33ab6-2ac1-4ce9-c7d0-704e695fa775"
      },
      "source": [
        "decoder_blk = TransformerDecoderBlock(24, 48, 8, 0.5, 0)\n",
        "X = torch.ones((2, 100, 24))\n",
        "state = [encoder_blk(X, valid_lens), valid_lens, [None]]\n",
        "check_shape(decoder_blk(X, state)[0], X.shape)"
      ],
      "id": "1d94b8c4",
      "execution_count": 100,
      "outputs": [
        {
          "output_type": "execute_result",
          "data": {
            "text/plain": [
              "tensor([[[ 0.0873, -0.2148,  1.0626,  ..., -0.3677,  1.0703, -1.7591],\n",
              "         [-1.1862, -1.5900, -0.0111,  ..., -1.1303,  0.5276, -0.0288],\n",
              "         [ 0.1243, -1.5262,  0.4868,  ...,  0.4730, -0.0355, -0.5456],\n",
              "         ...,\n",
              "         [ 0.1038, -1.4244, -0.5633,  ..., -0.8434,  0.1038, -0.6194],\n",
              "         [ 1.6781, -0.3705,  0.3294,  ..., -1.3547,  0.6927, -1.0662],\n",
              "         [-0.3306, -0.1985,  0.4503,  ..., -0.3734,  0.8151, -2.1793]],\n",
              "\n",
              "        [[ 0.5206, -0.1208,  0.4271,  ..., -2.0531, -0.2590,  0.9654],\n",
              "         [-0.1230, -0.4757, -1.8668,  ..., -1.9179,  0.4973, -0.3273],\n",
              "         [ 0.7480, -0.3303,  0.3996,  ..., -0.0478, -0.0478, -0.5260],\n",
              "         ...,\n",
              "         [-0.9144,  0.2782, -0.4582,  ..., -0.2601,  0.4170, -0.8046],\n",
              "         [-0.2759, -0.3137, -0.6557,  ..., -0.5467,  2.6535, -2.0156],\n",
              "         [ 0.0753,  0.1993, -0.1599,  ..., -0.1168,  2.6164, -0.9373]]],\n",
              "       grad_fn=<NativeLayerNormBackward0>)"
            ]
          },
          "metadata": {},
          "execution_count": 100
        }
      ]
    },
    {
      "cell_type": "code",
      "metadata": {
        "colab": {
          "base_uri": "https://localhost:8080/"
        },
        "id": "bc3a9d74",
        "outputId": "dbc33216-1fd6-4b8e-fd1c-0a1f9c9ca7b3"
      },
      "source": [
        "decoder_blk = TransformerDecoderBlock(24, 48, 8, 0.5, 0)\n",
        "X = torch.ones((2, 100, 24))\n",
        "state = [encoder_blk(X, valid_lens), valid_lens, [None]]\n",
        "check_shape(decoder_blk(X, state)[0], X.shape)"
      ],
      "id": "bc3a9d74",
      "execution_count": 101,
      "outputs": [
        {
          "output_type": "execute_result",
          "data": {
            "text/plain": [
              "tensor([[[ 1.4798, -2.7548,  0.0801,  ...,  0.0982, -0.1093,  0.3784],\n",
              "         [ 0.4682, -0.3309, -0.4186,  ..., -0.5783, -0.0941,  0.6198],\n",
              "         [-0.3885,  0.0033,  0.0272,  ...,  0.0439,  0.8811, -0.1710],\n",
              "         ...,\n",
              "         [-0.2643, -0.6946, -0.9970,  ..., -0.8023,  1.0421,  0.7694],\n",
              "         [ 0.1760,  0.2756, -0.0068,  ...,  0.0699,  0.7362, -0.0872],\n",
              "         [ 0.4310, -0.1902, -0.1009,  ...,  0.0416,  0.1035,  1.0703]],\n",
              "\n",
              "        [[ 0.5459,  0.0978, -0.8832,  ...,  0.1914, -0.1453, -0.8722],\n",
              "         [-0.0342, -0.1700, -0.6476,  ..., -0.4945,  0.2086,  0.2199],\n",
              "         [ 0.2641,  0.2625,  0.3038,  ...,  0.0230, -0.2503, -0.7653],\n",
              "         ...,\n",
              "         [ 0.4671, -0.0592, -0.9684,  ..., -0.3266, -0.2259, -0.5233],\n",
              "         [-0.1350,  0.3406,  0.3648,  ...,  0.9393,  1.8573,  0.3589],\n",
              "         [-0.0526,  0.6370, -0.2622,  ..., -0.1412,  0.1700,  0.8063]]],\n",
              "       grad_fn=<NativeLayerNormBackward0>)"
            ]
          },
          "metadata": {},
          "execution_count": 101
        }
      ]
    },
    {
      "cell_type": "code",
      "metadata": {
        "colab": {
          "base_uri": "https://localhost:8080/",
          "height": 343
        },
        "id": "7a1f612b",
        "outputId": "d1a41cfb-5ae4-493f-dcec-359846aa2798"
      },
      "source": [
        "import pandas as pd\n",
        "import torch\n",
        "\n",
        "# dec_attention_weights from predict_step is a list of attention weights for each decoding step.\n",
        "# Each element is a list of two lists: [self_attention_weights_per_block, inter_attention_weights_per_block]\n",
        "# self_attention_weights_per_block is a list of tensors, one for each block.\n",
        "# Each self-attention tensor shape: (batch_size * num_heads, 1, current_decoded_len)\n",
        "# Each inter-attention tensor shape: (batch_size * num_heads, 1, encoded_len)\n",
        "\n",
        "# Assuming batch_size is 1 for visualization\n",
        "batch_size_viz = 1\n",
        "num_blks = model.decoder.num_blks\n",
        "num_heads = model.decoder.blks[0].attention1.num_heads # Assuming all blocks have same number of heads\n",
        "# Get encoded_len from the output of the encoder for a single example\n",
        "single_example_src = train_dataset.build([engs[-1]], [fras[-1]])[0].to(try_gpu())\n",
        "with torch.no_grad():\n",
        "    encoded_len = model.encoder(single_example_src, None).shape[1]\n",
        "max_len = train_dataset.max_len # Maximum decoding length\n",
        "\n",
        "# Initialize tensors to store collected attention weights\n",
        "# Shape: (num_blks, num_heads, max_len, max_len) for self-attention\n",
        "# Shape: (num_blks, num_heads, max_len, encoded_len) for inter-attention\n",
        "dec_self_attention_weights_viz = torch.zeros(num_blks, num_heads, max_len, max_len)\n",
        "dec_inter_attention_weights_viz = torch.zeros(num_blks, num_heads, max_len, encoded_len)\n",
        "\n",
        "\n",
        "for step_idx, step_weights in enumerate(dec_attention_weights):\n",
        "    # step_weights is a list of two lists: [self_attn_per_block, inter_attn_per_block]\n",
        "    self_attn_per_block = step_weights[0] # List of tensors, one per block\n",
        "    inter_attn_per_block = step_weights[1] # List of tensors, one per block\n",
        "\n",
        "    for blk_idx in range(num_blks):\n",
        "        # Self-attention weights for the current block and step\n",
        "        # Shape (batch_size * num_heads, 1, current_decoded_len)\n",
        "        self_attn_tensor = self_attn_per_block[blk_idx]\n",
        "        current_decoded_len = self_attn_tensor.shape[-1]\n",
        "\n",
        "        # Reshape to (batch_size, num_heads, 1, current_decoded_len) and take the first example\n",
        "        self_attn_tensor = self_attn_tensor.reshape(batch_size_viz, num_heads, 1, current_decoded_len)[0, :, 0, :] # Shape (num_heads, current_decoded_len)\n",
        "\n",
        "        # Store self-attention weights in the visualization tensor\n",
        "        # The query position is the current step_idx\n",
        "        # The key positions are from 0 to current_decoded_len - 1\n",
        "        dec_self_attention_weights_viz[blk_idx, :, step_idx, :current_decoded_len] = self_attn_tensor\n",
        "\n",
        "\n",
        "        # Inter-attention weights for the current block and step\n",
        "        # Shape (batch_size * num_heads, 1, encoded_len)\n",
        "        inter_attn_tensor = inter_attn_per_block[blk_idx]\n",
        "\n",
        "        # Reshape to (batch_size, num_heads, 1, encoded_len) and take the first example\n",
        "        inter_attn_tensor = inter_attn_tensor.reshape(batch_size_viz, num_heads, 1, encoded_len)[0, :, 0, :] # Shape (num_heads, encoded_len)\n",
        "\n",
        "        # Store inter-attention weights in the visualization tensor\n",
        "        # The query position is the current step_idx\n",
        "        # The key positions are from 0 to encoded_len - 1\n",
        "        dec_inter_attention_weights_viz[blk_idx, :, step_idx, :] = inter_attn_tensor\n",
        "\n",
        "\n",
        "# Now the collected tensors have the desired shape for visualization\n",
        "\n",
        "\n",
        "# Adjust expected shape based on the actual data structure and the single example used for visualization\n",
        "expected_self_attn_shape = (num_blks, num_heads, max_len, max_len)\n",
        "expected_inter_attn_shape = (num_blks, num_heads, max_len, encoded_len)\n",
        "\n",
        "\n",
        "check_shape(dec_self_attention_weights_viz, expected_self_attn_shape)\n",
        "check_shape(dec_inter_attention_weights_viz, expected_inter_attn_shape)\n",
        "\n",
        "show_heatmaps(\n",
        "    dec_self_attention_weights_viz.cpu(),\n",
        "    xlabel='Key positions', ylabel='Query positions',\n",
        "    titles=['Head %d' % i for i in range(1, num_heads + 1)], figsize=(7, 3.5))"
      ],
      "id": "7a1f612b",
      "execution_count": 111,
      "outputs": [
        {
          "output_type": "display_data",
          "data": {
            "text/plain": [
              "<Figure size 700x350 with 9 Axes>"
            ],
            "image/png": "[encoded data removed]"
          },
          "metadata": {}
        }
      ]
    },
    {
      "cell_type": "code",
      "metadata": {
        "colab": {
          "base_uri": "https://localhost:8080/",
          "height": 343
        },
        "id": "ef336276",
        "outputId": "e24e56da-665c-4a23-9279-bdec1dae2b91"
      },
      "source": [
        "show_heatmaps(\n",
        "    dec_inter_attention_weights_viz, xlabel='Key positions',\n",
        "    ylabel='Query positions', titles=['Head %d' % i for i in range(1, num_heads + 1)],\n",
        "    figsize=(7, 3.5))"
      ],
      "id": "ef336276",
      "execution_count": 103,
      "outputs": [
        {
          "output_type": "display_data",
          "data": {
            "text/plain": [
              "<Figure size 700x350 with 9 Axes>"
            ],
            "image/png": "[encoded data removed]"
          },
          "metadata": {}
        }
      ]
    },
    {
      "cell_type": "markdown",
      "id": "ab792ba3",
      "metadata": {
        "id": "ab792ba3"
      },
      "source": [
        "Construct the entire Transformer decoder"
      ]
    },
    {
      "cell_type": "code",
      "execution_count": 104,
      "id": "38ebb1e7",
      "metadata": {
        "execution": {
          "iopub.execute_input": "2023-08-18T19:50:10.051657Z",
          "iopub.status.busy": "2023-08-18T19:50:10.051318Z",
          "iopub.status.idle": "2023-08-18T19:50:10.061485Z",
          "shell.execute_reply": "2023-08-18T19:50:10.060579Z"
        },
        "origin_pos": 63,
        "tab": [
          "pytorch"
        ],
        "id": "38ebb1e7"
      },
      "outputs": [],
      "source": [
        "class AttentionDecoder(nn.Module):\n",
        "    def __init__(self):\n",
        "        super().__init__()\n",
        "\n",
        "    def init_state(self, enc_outputs, enc_valid_lens):\n",
        "        raise NotImplementedError\n",
        "\n",
        "    def forward(self, X, state):\n",
        "        raise NotImplementedError\n",
        "\n",
        "class TransformerDecoder(AttentionDecoder):\n",
        "    def __init__(self, vocab_size, num_hiddens, ffn_num_hiddens, num_heads,\n",
        "                 num_blks, dropout, tgt_vocab):\n",
        "        super().__init__()\n",
        "        self.num_hiddens = num_hiddens\n",
        "        self.num_blks = num_blks\n",
        "        self.embedding = nn.Embedding(vocab_size, num_hiddens)\n",
        "        self.pos_encoding = PositionalEncoding(num_hiddens, dropout)\n",
        "        self.blks = nn.Sequential()\n",
        "        for i in range(num_blks):\n",
        "            self.blks.add_module(\"block\"+str(i), TransformerDecoderBlock(\n",
        "                num_hiddens, ffn_num_hiddens, num_heads, dropout, i))\n",
        "        self.dense = nn.LazyLinear(vocab_size)\n",
        "        self.tgt_vocab = tgt_vocab\n",
        "\n",
        "    def init_state(self, enc_outputs, enc_valid_lens):\n",
        "        return [enc_outputs, enc_valid_lens, [None] * self.num_blks]\n",
        "\n",
        "    def forward(self, X, state):\n",
        "        X = self.pos_encoding(self.embedding(X) * math.sqrt(self.num_hiddens))\n",
        "        self._attention_weights = [[None] * len(self.blks) for _ in range (2)]\n",
        "        for i, blk in enumerate(self.blks):\n",
        "            X, state = blk(X, state)\n",
        "            self._attention_weights[0][\n",
        "                i] = blk.attention1.attention.attention_weights\n",
        "            self._attention_weights[1][\n",
        "                i] = blk.attention2.attention.attention_weights\n",
        "        return self.dense(X), state\n",
        "\n",
        "    @property\n",
        "    def attention_weights(self):\n",
        "        return self._attention_weights"
      ]
    },
    {
      "cell_type": "markdown",
      "id": "d905f877",
      "metadata": {
        "id": "d905f877"
      },
      "source": [
        "Training"
      ]
    },
    {
      "cell_type": "code",
      "execution_count": 108,
      "id": "74f2da96",
      "metadata": {
        "execution": {
          "iopub.execute_input": "2023-08-18T19:50:10.065769Z",
          "iopub.status.busy": "2023-08-18T19:50:10.064767Z",
          "iopub.status.idle": "2023-08-18T19:50:42.759965Z",
          "shell.execute_reply": "2023-08-18T19:50:42.758647Z"
        },
        "origin_pos": 67,
        "tab": [
          "pytorch"
        ],
        "colab": {
          "base_uri": "https://localhost:8080/",
          "height": 1000
        },
        "id": "74f2da96",
        "outputId": "18b21d6d-d6a7-4890-be11-f4ccb3b876a8"
      },
      "outputs": [
        {
          "output_type": "stream",
          "name": "stdout",
          "text": [
            "Epoch [1/30], Train Loss: 1.5157, Val Loss: 0.2606\n",
            "Epoch [2/30], Train Loss: 0.2265, Val Loss: 0.2143\n",
            "Epoch [3/30], Train Loss: 0.1227, Val Loss: 0.1036\n",
            "Epoch [4/30], Train Loss: 0.0605, Val Loss: 0.0951\n",
            "Epoch [5/30], Train Loss: 0.0271, Val Loss: 0.0597\n",
            "Epoch [6/30], Train Loss: 0.0082, Val Loss: 0.0311\n",
            "Epoch [7/30], Train Loss: 0.0041, Val Loss: 0.0170\n",
            "Epoch [8/30], Train Loss: 0.0038, Val Loss: 0.0105\n",
            "Epoch [9/30], Train Loss: 0.0023, Val Loss: 0.0073\n",
            "Epoch [10/30], Train Loss: 0.0020, Val Loss: 0.0053\n",
            "Epoch [11/30], Train Loss: 0.0017, Val Loss: 0.0044\n",
            "Epoch [12/30], Train Loss: 0.0021, Val Loss: 0.0042\n",
            "Epoch [13/30], Train Loss: 0.0026, Val Loss: 0.0097\n",
            "Epoch [14/30], Train Loss: 0.0018, Val Loss: 0.0084\n",
            "Epoch [15/30], Train Loss: 0.0017, Val Loss: 0.0078\n",
            "Epoch [16/30], Train Loss: 0.0019, Val Loss: 0.0066\n",
            "Epoch [17/30], Train Loss: 0.0014, Val Loss: 0.0056\n",
            "Epoch [18/30], Train Loss: 0.0017, Val Loss: 0.0046\n",
            "Epoch [19/30], Train Loss: 0.0014, Val Loss: 0.0037\n",
            "Epoch [20/30], Train Loss: 0.0011, Val Loss: 0.0031\n",
            "Epoch [21/30], Train Loss: 0.0012, Val Loss: 0.0024\n",
            "Epoch [22/30], Train Loss: 0.0012, Val Loss: 0.0012\n",
            "Epoch [23/30], Train Loss: 0.0010, Val Loss: 0.0010\n",
            "Epoch [24/30], Train Loss: 0.0009, Val Loss: 0.0008\n",
            "Epoch [25/30], Train Loss: 0.0008, Val Loss: 0.0007\n",
            "Epoch [26/30], Train Loss: 0.0007, Val Loss: 0.0006\n",
            "Epoch [27/30], Train Loss: 0.0008, Val Loss: 0.0006\n",
            "Epoch [28/30], Train Loss: 0.0006, Val Loss: 0.0005\n",
            "Epoch [29/30], Train Loss: 0.0006, Val Loss: 0.0004\n",
            "Epoch [30/30], Train Loss: 0.0006, Val Loss: 0.0004\n"
          ]
        },
        {
          "output_type": "display_data",
          "data": {
            "text/plain": [
              "<Figure size 1000x500 with 1 Axes>"
            ],
            "image/png": "[encoded data removed]"
          },
          "metadata": {}
        }
      ],
      "source": [
        "# Assuming you have a function to load/create your source and target sentences\n",
        "# For example:\n",
        "# src_sentences = [\"This is an example.\", \"Another sentence.\"]\n",
        "# tgt_sentences = [\"C'est un exemple.\", \"Une autre phrase.\"]\n",
        "\n",
        "# You need to define or load your source and target sentences here\n",
        "# For demonstration, let's create dummy data:\n",
        "src_sentences = [\"This is an example sentence.\", \"Another sentence here.\"]\n",
        "tgt_sentences = [\"C'est une phrase d'exemple.\", \"Une autre phrase ici.\"]\n",
        "\n",
        "# Build vocabularies\n",
        "src_vocab = MTFraEng.build_vocab(src_sentences)\n",
        "tgt_vocab = MTFraEng.build_vocab(tgt_sentences)\n",
        "\n",
        "max_len = 10 # Define your maximum sequence length\n",
        "\n",
        "# Instantiate the Dataset\n",
        "train_dataset = MTFraEng(src_sentences, tgt_sentences, src_vocab, tgt_vocab, max_len)\n",
        "\n",
        "# Define batch size\n",
        "batch_size = 128\n",
        "\n",
        "# Create DataLoaders\n",
        "train_loader = DataLoader(train_dataset, batch_size=batch_size, shuffle=True)\n",
        "val_loader = DataLoader(train_dataset, batch_size=batch_size) # Using train_dataset for validation for demonstration\n",
        "\n",
        "num_hiddens, num_blks, dropout = 256, 2, 0.2\n",
        "ffn_num_hiddens, num_heads = 64, 4\n",
        "\n",
        "encoder = TransformerEncoder(\n",
        "    len(src_vocab), num_hiddens, ffn_num_hiddens, num_heads,\n",
        "    num_blks, dropout)\n",
        "decoder = TransformerDecoder(\n",
        "    len(tgt_vocab), num_hiddens, ffn_num_hiddens, num_heads,\n",
        "    num_blks, dropout, tgt_vocab)\n",
        "\n",
        "# The Seq2Seq model needs the pad token index for the target\n",
        "model = Seq2Seq(encoder, decoder)\n",
        "\n",
        "# Define training parameters\n",
        "num_epochs = 30\n",
        "lr = 0.001\n",
        "device = try_gpu() # Assuming try_gpu() is defined elsewhere to get a device\n",
        "\n",
        "# Call the Trainer function with the correct arguments\n",
        "Trainer(model, train_loader, val_loader, num_epochs, lr, device)"
      ]
    },
    {
      "cell_type": "code",
      "metadata": {
        "colab": {
          "base_uri": "https://localhost:8080/"
        },
        "id": "8e8f6088",
        "outputId": "a5df9f86-f3f7-4945-f75c-4f06de1afaae"
      },
      "source": [
        "from nltk.translate.bleu_score import sentence_bleu, SmoothingFunction\n",
        "\n",
        "def bleu(preq_seq,label_seq,k=2):\n",
        "  return sentence_bleu([label_seq.split()],\n",
        "             preq_seq.split(),\n",
        "             smoothing_function=SmoothingFunction().method1,\n",
        "             weights=(1. / k,) * k)\n",
        "\n",
        "engs = ['go .', 'i lost .', 'he\\'s calm .', 'i\\'m home .']\n",
        "fras = ['va !', 'j\\'ai perdu .', 'il est calme .', 'je suis chez moi .']\n",
        "preds, _ = model.predict_step(\n",
        "    train_dataset.build(engs, fras)[0], try_gpu(), train_dataset.max_len)\n",
        "for en, fr, p in zip(engs, fras, preds):\n",
        "    translation = []\n",
        "    # Get the index-to-token mapping from tgt_vocab\n",
        "    itos = train_dataset.tgt_vocab.get('get_itos')()\n",
        "    for idx in p:\n",
        "        token = itos.get(idx.item(), '<unk>') # Handle unknown tokens\n",
        "        if token == '<eos>':\n",
        "            break\n",
        "        translation.append(token)\n",
        "    print(f'{en} => {\" \".join(translation)}, bleu: {bleu(\" \".join(translation), fr, k=2):.3f}')"
      ],
      "id": "8e8f6088",
      "execution_count": 109,
      "outputs": [
        {
          "output_type": "stream",
          "name": "stdout",
          "text": [
            "go . => phrase phrase phrase phrase, bleu: 0.000\n",
            "i lost . => , bleu: 0.000\n",
            "he's calm . => , bleu: 0.000\n",
            "i'm home . => , bleu: 0.000\n"
          ]
        }
      ]
    },
    {
      "cell_type": "markdown",
      "id": "871837ed",
      "metadata": {
        "id": "871837ed"
      },
      "source": [
        "Translate a few English sentences"
      ]
    },
    {
      "cell_type": "code",
      "execution_count": null,
      "id": "06e5e238",
      "metadata": {
        "execution": {
          "iopub.execute_input": "2023-08-18T19:50:42.765441Z",
          "iopub.status.busy": "2023-08-18T19:50:42.764512Z",
          "iopub.status.idle": "2023-08-18T19:50:42.852261Z",
          "shell.execute_reply": "2023-08-18T19:50:42.850805Z"
        },
        "origin_pos": 69,
        "tab": [
          "pytorch"
        ],
        "id": "06e5e238"
      },
      "outputs": [],
      "source": [
        "from nltk.translate.bleu_score import sentence_bleu, SmoothingFunction\n",
        "\n",
        "def bleu(preq_seq,label_seq,k=2):\n",
        "  return sentence_bleu([label_seq.split()],\n",
        "             preq_seq.split(),\n",
        "             smoothing_function=SmoothingFunction().method1,\n",
        "             weights=(1. / k,) * k)\n",
        "\n",
        "engs = ['go .', 'i lost .', 'he\\'s calm .', 'i\\'m home .']\n",
        "fras = ['va !', 'j\\'ai perdu .', 'il est calme .', 'je suis chez moi .']\n",
        "preds, _ = model.predict_step(\n",
        "    train_dataset.build(engs, fras)[0], try_gpu(), train_dataset.max_len)\n",
        "for en, fr, p in zip(engs, fras, preds):\n",
        "    translation = []\n",
        "    # Get the index-to-token mapping from tgt_vocab\n",
        "    itos = train_dataset.tgt_vocab.get('get_itos')()\n",
        "    for idx in p:\n",
        "        token = itos.get(idx.item(), '<unk>') # Handle unknown tokens\n",
        "        if token == '<eos>':\n",
        "            break\n",
        "        translation.append(token)\n",
        "    print(f'{en} => {\" \".join(translation)}, bleu: {bleu(\" \".join(translation), fr, k=2):.3f}')"
      ]
    },
    {
      "cell_type": "markdown",
      "id": "9f7fb206",
      "metadata": {
        "id": "9f7fb206"
      },
      "source": [
        "Visualize the Transformer attention weights"
      ]
    },
    {
      "cell_type": "code",
      "execution_count": null,
      "id": "520c51a5",
      "metadata": {
        "execution": {
          "iopub.execute_input": "2023-08-18T19:50:42.931273Z",
          "iopub.status.busy": "2023-08-18T19:50:42.930241Z",
          "iopub.status.idle": "2023-08-18T19:50:44.499507Z",
          "shell.execute_reply": "2023-08-18T19:50:44.498627Z"
        },
        "origin_pos": 75,
        "tab": [
          "pytorch"
        ],
        "id": "520c51a5"
      },
      "outputs": [],
      "source": [
        "_, dec_attention_weights = model.predict_step(\n",
        "    train_dataset.build([engs[-1]], [fras[-1]])[0], try_gpu(), train_dataset.max_len, True)\n",
        "enc_attention_weights = torch.cat(model.encoder.attention_weights, 0)\n",
        "shape = (num_blks, num_heads, -1, train_dataset.max_len)\n",
        "enc_attention_weights = enc_attention_weights.reshape(shape)\n",
        "check_shape(enc_attention_weights,\n",
        "                (num_blks, num_heads, train_dataset.max_len, train_dataset.max_len))\n",
        "\n",
        "show_heatmaps(\n",
        "    enc_attention_weights.cpu(), xlabel='Key positions',\n",
        "    ylabel='Query positions', titles=['Head %d' % i for i in range(1, num_heads + 1)],\n",
        "    figsize=(7, 3.5))"
      ]
    },
    {
      "cell_type": "markdown",
      "id": "f81b4e58",
      "metadata": {
        "id": "f81b4e58"
      },
      "source": [
        "To visualize the decoder self-attention weights and the encoder--decoder attention weights,\n",
        "we need more data manipulations"
      ]
    },
    {
      "cell_type": "code",
      "execution_count": null,
      "id": "8430c053",
      "metadata": {
        "execution": {
          "iopub.execute_input": "2023-08-18T19:50:44.533271Z",
          "iopub.status.busy": "2023-08-18T19:50:44.532389Z",
          "iopub.status.idle": "2023-08-18T19:50:45.954406Z",
          "shell.execute_reply": "2023-08-18T19:50:45.953261Z"
        },
        "origin_pos": 83,
        "tab": [
          "pytorch"
        ],
        "id": "8430c053"
      },
      "outputs": [],
      "source": [
        "import pandas as pd\n",
        "dec_attention_weights_2d = [head[0].tolist()\n",
        "                            for step in dec_attention_weights\n",
        "                            for attn in step for blk in attn for head in blk]\n",
        "dec_attention_weights_filled = torch.tensor(\n",
        "    pd.DataFrame(dec_attention_weights_2d).fillna(0.0).values)\n",
        "shape = (-1, 2, num_blks, num_heads, train_dataset.max_len)\n",
        "dec_attention_weights = dec_attention_weights_filled.reshape(shape)\n",
        "dec_self_attention_weights, dec_inter_attention_weights = \\\n",
        "    dec_attention_weights.permute(1, 2, 3, 0, 4)\n",
        "\n",
        "check_shape(dec_self_attention_weights,\n",
        "                (num_blks, num_heads, train_dataset.max_len, train_dataset.max_len))\n",
        "check_shape(dec_inter_attention_weights,\n",
        "                (num_blks, num_heads, train_dataset.max_len, train_dataset.max_len))\n",
        "\n",
        "show_heatmaps(\n",
        "    dec_self_attention_weights[:, :, :, :],\n",
        "    xlabel='Key positions', ylabel='Query positions',\n",
        "    titles=['Head %d' % i for i in range(1, num_heads + 1)], figsize=(7, 3.5))"
      ]
    },
    {
      "cell_type": "code",
      "metadata": {
        "id": "546a3704"
      },
      "source": [
        "# Assuming you have a function to load/create your source and target sentences\n",
        "# For example:\n",
        "# src_sentences = [\"This is an example.\", \"Another sentence.\"]\n",
        "# tgt_sentences = [\"C'est un exemple.\", \"Une autre phrase.\"]\n",
        "\n",
        "# You need to define or load your source and target sentences here\n",
        "# For demonstration, let's create dummy data:\n",
        "src_sentences = [\"This is an example sentence.\", \"Another sentence here.\"]\n",
        "tgt_sentences = [\"C'est une phrase d'exemple.\", \"Une autre phrase ici.\"]\n",
        "\n",
        "# Build vocabularies\n",
        "src_vocab = MTFraEng.build_vocab(src_sentences)\n",
        "tgt_vocab = MTFraEng.build_vocab(tgt_sentences)\n",
        "\n",
        "max_len = 10 # Define your maximum sequence length\n",
        "\n",
        "# Instantiate the Dataset\n",
        "train_dataset = MTFraEng(src_sentences, tgt_sentences, src_vocab, tgt_vocab, max_len)\n",
        "\n",
        "# Define batch size\n",
        "batch_size = 128\n",
        "\n",
        "# Create DataLoaders\n",
        "train_loader = DataLoader(train_dataset, batch_size=batch_size, shuffle=True)\n",
        "val_loader = DataLoader(train_dataset, batch_size=batch_size) # Using train_dataset for validation for demonstration\n",
        "\n",
        "num_hiddens, num_blks, dropout = 256, 2, 0.2\n",
        "ffn_num_hiddens, num_heads = 64, 4\n",
        "\n",
        "encoder = TransformerEncoder(\n",
        "    len(src_vocab), num_hiddens, ffn_num_hiddens, num_heads,\n",
        "    num_blks, dropout)\n",
        "decoder = TransformerDecoder(\n",
        "    len(tgt_vocab), num_hiddens, ffn_num_hiddens, num_heads,\n",
        "    num_blks, dropout, tgt_vocab)\n",
        "\n",
        "# The Seq2Seq model needs the pad token index for the target\n",
        "model = Seq2Seq(encoder, decoder, tgt_vocab)\n",
        "\n",
        "# Define training parameters\n",
        "num_epochs = 30\n",
        "lr = 0.001\n",
        "device = try_gpu() # Assuming try_gpu() is defined elsewhere to get a device\n",
        "\n",
        "# Call the Trainer function with the correct arguments\n",
        "Trainer(model, train_loader, val_loader, num_epochs, lr, device)"
      ],
      "id": "546a3704",
      "execution_count": null,
      "outputs": []
    },
    {
      "cell_type": "code",
      "metadata": {
        "id": "9a0a33cd"
      },
      "source": [
        "from nltk.translate.bleu_score import sentence_bleu, SmoothingFunction\n",
        "\n",
        "def bleu(preq_seq,label_seq,k=2):\n",
        "  return sentence_bleu([label_seq.split()],\n",
        "             preq_seq.split(),\n",
        "             smoothing_function=SmoothingFunction().method1,\n",
        "             weights=(1. / k,) * k)\n",
        "\n",
        "engs = ['go .', 'i lost .', 'he\\'s calm .', 'i\\'m home .']\n",
        "fras = ['va !', 'j\\'ai perdu .', 'il est calme .', 'je suis chez moi .']\n",
        "preds, _ = model.predict_step(\n",
        "    train_dataset.build(engs, fras)[0], try_gpu(), train_dataset.max_len)\n",
        "for en, fr, p in zip(engs, fras, preds):\n",
        "    translation = []\n",
        "    # Get the index-to-token mapping from tgt_vocab\n",
        "    itos = train_dataset.tgt_vocab.get('get_itos')()\n",
        "    for idx in p:\n",
        "        token = itos.get(idx.item(), '<unk>') # Handle unknown tokens\n",
        "        if token == '<eos>':\n",
        "            break\n",
        "        translation.append(token)\n",
        "    print(f'{en} => {\" \".join(translation)}, bleu: {bleu(\" \".join(translation), fr, k=2):.3f}')"
      ],
      "id": "9a0a33cd",
      "execution_count": null,
      "outputs": []
    },
    {
      "cell_type": "markdown",
      "id": "527e9143",
      "metadata": {
        "id": "527e9143"
      },
      "source": [
        "No query from the output sequence\n",
        "attends to those padding tokens from the input sequence"
      ]
    },
    {
      "cell_type": "code",
      "execution_count": 112,
      "id": "1c0b1dfe",
      "metadata": {
        "execution": {
          "iopub.execute_input": "2023-08-18T19:50:45.958174Z",
          "iopub.status.busy": "2023-08-18T19:50:45.957587Z",
          "iopub.status.idle": "2023-08-18T19:50:47.397366Z",
          "shell.execute_reply": "2023-08-18T19:50:47.396481Z"
        },
        "origin_pos": 85,
        "tab": [
          "pytorch"
        ],
        "colab": {
          "base_uri": "https://localhost:8080/",
          "height": 343
        },
        "id": "1c0b1dfe",
        "outputId": "354a8ea0-d131-4fef-f676-343e3f31d449"
      },
      "outputs": [
        {
          "output_type": "display_data",
          "data": {
            "text/plain": [
              "<Figure size 700x350 with 9 Axes>"
            ],
            "image/png": "[encoded data removed]"
          },
          "metadata": {}
        }
      ],
      "source": [
        "show_heatmaps(\n",
        "    dec_inter_attention_weights_viz.cpu(), xlabel='Key positions',\n",
        "    ylabel='Query positions', titles=['Head %d' % i for i in range(1, num_heads + 1)],\n",
        "    figsize=(7, 3.5))"
      ]
    }
  ],
  "metadata": {
    "celltoolbar": "Slideshow",
    "language_info": {
      "name": "python"
    },
    "required_libs": [],
    "rise": {
      "autolaunch": true,
      "enable_chalkboard": true,
      "overlay": "<div class='my-top-right'><img height=80px src='http://d2l.ai/_static/logo-with-text.png'/></div><div class='my-top-left'></div>",
      "scroll": true
    },
    "colab": {
      "provenance": [],
      "gpuType": "T4",
      "include_colab_link": true
    },
    "accelerator": "GPU",
    "kernelspec": {
      "name": "python3",
      "display_name": "Python 3"
    }
  },
  "nbformat": 4,
  "nbformat_minor": 5
}